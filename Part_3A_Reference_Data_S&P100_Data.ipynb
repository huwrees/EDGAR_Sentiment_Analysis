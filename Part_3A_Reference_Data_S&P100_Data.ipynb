{
 "cells": [
  {
   "cell_type": "markdown",
   "id": "52e5154e",
   "metadata": {},
   "source": [
    "Below is a working example of how to import and then use the module 'ref_data'."
   ]
  },
  {
   "cell_type": "markdown",
   "id": "4c8ec5ab",
   "metadata": {},
   "source": [
    "The list of S&P 100 tickers was taken from https://www.marketscreener.com on 07/03/23."
   ]
  },
  {
   "cell_type": "code",
   "execution_count": 2,
   "id": "03e85f22",
   "metadata": {},
   "outputs": [],
   "source": [
    "import ref_data as edgar_data"
   ]
  },
  {
   "cell_type": "code",
   "execution_count": 3,
   "id": "83a0b336",
   "metadata": {},
   "outputs": [
    {
     "name": "stdout",
     "output_type": "stream",
     "text": [
      "['AAPL', 'MSFT', 'AMZN', 'BRK.B', 'GOOGL', 'UNH', 'GOOG', 'JNJ', 'XOM', 'JPM', 'NVDA', 'PG', 'V', 'HD', 'TSLA', 'CVX', 'MA', 'LLY', 'ABBV', 'PFE', 'MRK', 'META', 'PEP', 'KO', 'BAC', 'AVGO', 'TMO', 'COST', 'WMT', 'MCD', 'ABT', 'ADBE', 'CSCO', 'NFLX', 'ORCL', 'INTC', 'CRM', 'VZ', 'QCOM', 'PM', 'DHR', 'NKE', 'C', 'UNP', 'T', 'PNC', 'PYPL', 'WFC', 'NEE', 'PDD', 'TMUS', 'UPS', 'ACN', 'IBM', 'TXN', 'HON', 'AMGN', 'LIN', 'LMT', 'GILD', 'MU', 'TGT', 'RTX', 'AZN', 'AON', 'BMY', 'SBUX', 'CME', 'LOW', 'MDT', 'UPS', 'GS', 'MDT', 'MCO', 'AMAT', 'CAT', 'AXP', 'ABNB', 'BLK', 'CVNA', 'COP', 'CVS', 'DOW', 'GSK', 'LVS', 'TM', 'ADI', 'DUK', 'ILMN', 'MMM', 'SO', 'TOT', 'AIG', 'BIIB', 'CL', 'D', 'DIS', 'DUK', 'FDX', 'GM', 'KMB', 'MDLZ', 'MO', 'NEE', 'NVO', 'PBR', 'PSX', 'RACE', 'SO', 'TMX', 'UBER', 'VLO']\n"
     ]
    }
   ],
   "source": [
    "tickers_sp100 = edgar_data.get_sp100()\n",
    "\n",
    "print(tickers_sp100)"
   ]
  }
 ],
 "metadata": {
  "kernelspec": {
   "display_name": "Python 3 (ipykernel)",
   "language": "python",
   "name": "python3"
  },
  "language_info": {
   "codemirror_mode": {
    "name": "ipython",
    "version": 3
   },
   "file_extension": ".py",
   "mimetype": "text/x-python",
   "name": "python",
   "nbconvert_exporter": "python",
   "pygments_lexer": "ipython3",
   "version": "3.10.10"
  }
 },
 "nbformat": 4,
 "nbformat_minor": 5
}
