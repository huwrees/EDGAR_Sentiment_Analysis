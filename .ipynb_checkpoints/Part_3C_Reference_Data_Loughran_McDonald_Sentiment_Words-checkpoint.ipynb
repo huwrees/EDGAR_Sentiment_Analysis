{
 "cells": [
  {
   "cell_type": "markdown",
   "id": "0d95c576",
   "metadata": {},
   "source": [
    "Below is a working example of how to import the module 'ref_data' and use the get_sentiment_word_dict()."
   ]
  },
  {
   "cell_type": "code",
   "execution_count": null,
   "id": "28459ae9",
   "metadata": {},
   "outputs": [],
   "source": [
    "import ref_data as edgar_data\n",
    "sentiment_dict = edgar_data. get_sentiment_word_dict()\n",
    "print(sentiment_dict)\n"
   ]
  }
 ],
 "metadata": {
  "kernelspec": {
   "display_name": "Python 3 (ipykernel)",
   "language": "python",
   "name": "python3"
  },
  "language_info": {
   "codemirror_mode": {
    "name": "ipython",
    "version": 3
   },
   "file_extension": ".py",
   "mimetype": "text/x-python",
   "name": "python",
   "nbconvert_exporter": "python",
   "pygments_lexer": "ipython3",
   "version": "3.10.8"
  }
 },
 "nbformat": 4,
 "nbformat_minor": 5
}
