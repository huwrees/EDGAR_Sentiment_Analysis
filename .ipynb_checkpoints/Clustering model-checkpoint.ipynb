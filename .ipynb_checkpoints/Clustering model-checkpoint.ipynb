{
 "cells": [
  {
   "cell_type": "code",
   "execution_count": null,
   "id": "a90fc2d4",
   "metadata": {},
   "outputs": [],
   "source": [
    "CLUSTERING MODEL"
   ]
  },
  {
   "cell_type": "code",
   "execution_count": null,
   "id": "345a7725",
   "metadata": {},
   "outputs": [],
   "source": [
    "from sklearn.cluster import SpectralClustering\n",
    "from sklearn.mixture import GaussianMixture\n",
    "import pandas as pd"
   ]
  },
  {
   "cell_type": "code",
   "execution_count": null,
   "id": "f8c639c9",
   "metadata": {},
   "outputs": [],
   "source": [
    "def create_clustering_model(X):\n",
    "    \n",
    "    n_clusters = add_number\n",
    "    \n",
    "    gmm_model = GaussianMixture(n_components=n_clusters)\n",
    "    \n",
    "    gmm_model.fit(X)\n",
    "    \n",
    "    cluster_labels = gmm_model.predict(X)\n",
    "    X = pd.DataFrame(X)\n",
    "    X['cluster'] = cluster_labels\n",
    "    \n",
    "    \n",
    "    "
   ]
  }
 ],
 "metadata": {
  "kernelspec": {
   "display_name": "Python 3 (ipykernel)",
   "language": "python",
   "name": "python3"
  },
  "language_info": {
   "codemirror_mode": {
    "name": "ipython",
    "version": 3
   },
   "file_extension": ".py",
   "mimetype": "text/x-python",
   "name": "python",
   "nbconvert_exporter": "python",
   "pygments_lexer": "ipython3",
   "version": "3.10.8"
  }
 },
 "nbformat": 4,
 "nbformat_minor": 5
}
