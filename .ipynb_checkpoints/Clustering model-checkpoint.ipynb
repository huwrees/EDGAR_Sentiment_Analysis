{
 "cells": [
  {
   "cell_type": "code",
   "execution_count": null,
   "id": "9312307e",
   "metadata": {},
   "outputs": [],
   "source": [
    "CLUSTERING MODEL"
   ]
  },
  {
   "cell_type": "code",
   "execution_count": null,
   "id": "96c5545e",
   "metadata": {},
   "outputs": [],
   "source": [
    "from sklearn.cluster import SpectralClustering\n",
    "from sklearn.mixture import GaussianMixture\n",
    "from sklearn.clusters import KMeans\n",
    "import pandas as pd"
   ]
  },
  {
   "cell_type": "code",
   "execution_count": null,
   "id": "4cc52da7",
   "metadata": {},
   "outputs": [],
   "source": [
    "#Could look for clusters of negative and positive words by year or month \n",
    "#Can help to identify natural groups in the data\n",
    "\n",
    "def create_clustering_model(X):\n",
    "    \n",
    "    #consider the number of clusters \n",
    "    n_clusters = add_number\n",
    "    \n",
    "    #fit it to the gmm model\n",
    "    gmm_model = GaussianMixture(n_components=n_clusters)\n",
    "    gmm_model.fit(X)\n",
    "    \n",
    "    #create cluster labels\n",
    "    cluster_labels = gmm_model.predict(X)\n",
    "    X = pd.DataFrame(X)\n",
    "    X['cluster'] = cluster_labels\n",
    "    \n",
    "    #plot each cluster within a for loop\n",
    "    for k in range(0,n_clusters):\n",
    "    data = X[X[\"cluster\"]==k]\n",
    "    plt.scatter(data[\"Age\"],data[\"Spending Score (1-100)\"],c=color[k])\n",
    "    \n",
    "    #plot format\n",
    "    plt.title(\"Clusters Identified by Guassian Mixture Model\")    \n",
    "    plt.ylabel(\"Word count\") \n",
    "    plt.xlabel(\"Year\")"
   ]
  },
  {
   "cell_type": "code",
   "execution_count": null,
   "id": "3b858cd6",
   "metadata": {},
   "outputs": [],
   "source": []
  }
 ],
 "metadata": {
  "kernelspec": {
   "display_name": "Python 3 (ipykernel)",
   "language": "python",
   "name": "python3"
  },
  "language_info": {
   "codemirror_mode": {
    "name": "ipython",
    "version": 3
   },
   "file_extension": ".py",
   "mimetype": "text/x-python",
   "name": "python",
   "nbconvert_exporter": "python",
   "pygments_lexer": "ipython3",
   "version": "3.10.8"
  }
 },
 "nbformat": 4,
 "nbformat_minor": 5
}
