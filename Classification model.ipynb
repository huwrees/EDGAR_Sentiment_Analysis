{
 "cells": [
  {
   "cell_type": "code",
   "execution_count": null,
   "id": "501b59ad",
   "metadata": {},
   "outputs": [],
   "source": [
    "CLASSIFICIATION MODEL"
   ]
  },
  {
   "cell_type": "code",
   "execution_count": null,
   "id": "62cd62d6",
   "metadata": {},
   "outputs": [],
   "source": [
    "def create_classification model():\n",
    "    \n",
    "    model = "
   ]
  },
  {
   "cell_type": "code",
   "execution_count": null,
   "id": "eb4a6e04",
   "metadata": {},
   "outputs": [],
   "source": [
    "def evaluate_model(model, x_test, y_test):\n",
    "    from sklearn import metrics\n",
    "\n",
    "    # Predict Test Data \n",
    "    y_pred = model.predict(x_test)\n",
    "\n",
    "    # Calculate accuracy, precision, recall, f1-score, and kappa score\n",
    "    acc = metrics.accuracy_score(y_test, y_pred)                       # proportion of correct predictions need to consider if classes are imbalanced \n",
    "    prec = metrics.precision_score(y_test, y_pred)                     # ratio of true positives out of all positives \n",
    "    rec = metrics.recall_score(y_test, y_pred)                         # ratio of true positives out of all actual positives\n",
    "    f1 = metrics.f1_score(y_test, y_pred)                              # combines precision and recall (more balanced)\n",
    "    kappa = metrics.cohen_kappa_score(y_test, y_pred)                  # measures inter-rater reliability (and also intra-rater reliability), shows reliability of two raters rating the same thing\n",
    "\n",
    "    # Calculate area under curve (AUC)\n",
    "    y_pred_proba = model.predict_proba(x_test)[::,1]\n",
    "    fpr, tpr, _ = metrics.roc_curve(y_test, y_pred_proba)\n",
    "    auc = metrics.roc_auc_score(y_test, y_pred_proba)\n",
    "\n",
    "    # Display confussion matrix\n",
    "    cm = metrics.confusion_matrix(y_test, y_pred)\n",
    "\n",
    "    return {'acc': acc, 'prec': prec, 'rec': rec, 'f1': f1, 'kappa': kappa, \n",
    "            'fpr': fpr, 'tpr': tpr, 'auc': auc, 'cm': cm}"
   ]
  }
 ],
 "metadata": {
  "kernelspec": {
   "display_name": "Python 3 (ipykernel)",
   "language": "python",
   "name": "python3"
  },
  "language_info": {
   "codemirror_mode": {
    "name": "ipython",
    "version": 3
   },
   "file_extension": ".py",
   "mimetype": "text/x-python",
   "name": "python",
   "nbconvert_exporter": "python",
   "pygments_lexer": "ipython3",
   "version": "3.10.8"
  }
 },
 "nbformat": 4,
 "nbformat_minor": 5
}
