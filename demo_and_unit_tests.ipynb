{
 "cells": [
  {
   "attachments": {},
   "cell_type": "markdown",
   "metadata": {},
   "source": [
    "Demo Tests: Edgar Downloader"
   ]
  },
  {
   "cell_type": "code",
   "execution_count": null,
   "metadata": {},
   "outputs": [],
   "source": [
    "import edgar_downloader as ed\n",
    "\n",
    "destination_folder = r'C:\\Edgar_Unit_Tests\\raw_files'\n",
    "\n",
    "ed.download_files_10k('AAPL', destination_folder, min_date = '2020-01-01')"
   ]
  },
  {
   "attachments": {},
   "cell_type": "markdown",
   "metadata": {},
   "source": [
    "Demo Tests: Edgar Cleaner"
   ]
  },
  {
   "cell_type": "code",
   "execution_count": null,
   "metadata": {},
   "outputs": [],
   "source": [
    "import edgar_cleaner as ec\n",
    "\n",
    "source_folder = r'C:\\Edgar_Unit_Tests\\raw_files'\n",
    "dest_folder = r'C:\\Edgar_Unit_Tests\\clean_files'\n",
    "\n",
    "ec.write_clean_html_text_files(source_folder, dest_folder)"
   ]
  },
  {
   "attachments": {},
   "cell_type": "markdown",
   "metadata": {},
   "source": [
    "Demo Tests: Ref Data"
   ]
  },
  {
   "cell_type": "code",
   "execution_count": null,
   "metadata": {},
   "outputs": [],
   "source": [
    "import ref_data as rf"
   ]
  },
  {
   "cell_type": "code",
   "execution_count": null,
   "metadata": {},
   "outputs": [],
   "source": [
    "sp100_list = rf.get_sp100()\n",
    "\n",
    "print(sp100_list)"
   ]
  },
  {
   "cell_type": "code",
   "execution_count": null,
   "metadata": {},
   "outputs": [],
   "source": [
    "sentiment_dictionary = rf.get_sentiment_word_dict()\n",
    "\n",
    "print(sentiment_dictionary)"
   ]
  },
  {
   "cell_type": "code",
   "execution_count": null,
   "metadata": {},
   "outputs": [],
   "source": [
    "financial_data = rf.get_yahoo_data('2020-01-01', '2023-03-13', 'AAPL')\n",
    "                                \n",
    "financial_data.head()"
   ]
  },
  {
   "cell_type": "markdown",
   "metadata": {},
   "source": [
    "Demo Tests: Sentiment Wordcount"
   ]
  },
  {
   "cell_type": "code",
   "execution_count": null,
   "metadata": {},
   "outputs": [],
   "source": [
    "import edgar_sentiment_wordcount as esw\n",
    "\n",
    "input_folder = r'C:\\Edgar_Unit_Tests\\clean_files'\n",
    "output_file = r'C:\\Edgar_Unit_Tests\\sentiment_wordcount.csv'\n",
    "\n",
    "esw.write_document_sentiments(input_folder, output_file)"
   ]
  },
  {
   "attachments": {},
   "cell_type": "markdown",
   "metadata": {},
   "source": [
    "Demo Tests: Edgar Sentiment Analysis Prep"
   ]
  },
  {
   "cell_type": "code",
   "execution_count": 5,
   "metadata": {},
   "outputs": [
    {
     "name": "stdout",
     "output_type": "stream",
     "text": [
      "Successfully created the directory C:\\Edgar_Unit_Tests\\Demo \n"
     ]
    }
   ],
   "source": [
    "import edgar_sentiment_analysis_prep as esap\n",
    "\n",
    "output_file_name = 'sentiment_analysis'\n",
    "#ticker_list = ['AAPL', 'MSFT', 'XOM', \"AMZN\", \"BRK-B\", \"GOOGL\", \"UNH\", \"GOOG\"]\n",
    "ticker_list = ['AAPL', 'MSFT', 'XOM', \"AMZN\"]\n",
    "#ticker_list = ['AAPL', 'MSFT']\n",
    "\n",
    "dest_folder = r'C:\\Edgar_Unit_Tests\\Demo'\n",
    "min_date = '2020-01-01'\n",
    "\n",
    "esap.full_train_dataset(output_file_name,\n",
    "                       ticker_list, \n",
    "                       dest_folder,\n",
    "                       min_date = min_date, \n",
    "                       user_email = 'gregsmith@kubrickgroup.com')"
   ]
  },
  {
   "attachments": {},
   "cell_type": "markdown",
   "metadata": {},
   "source": [
    "Demo Test: Edgar Data Processing"
   ]
  },
  {
   "cell_type": "code",
   "execution_count": 3,
   "metadata": {},
   "outputs": [
    {
     "data": {
      "text/html": [
       "<div>\n",
       "<style scoped>\n",
       "    .dataframe tbody tr th:only-of-type {\n",
       "        vertical-align: middle;\n",
       "    }\n",
       "\n",
       "    .dataframe tbody tr th {\n",
       "        vertical-align: top;\n",
       "    }\n",
       "\n",
       "    .dataframe thead th {\n",
       "        text-align: right;\n",
       "    }\n",
       "</style>\n",
       "<table border=\"1\" class=\"dataframe\">\n",
       "  <thead>\n",
       "    <tr style=\"text-align: right;\">\n",
       "      <th></th>\n",
       "      <th>perc_Negative</th>\n",
       "      <th>perc_Positive</th>\n",
       "      <th>perc_Uncertainty</th>\n",
       "      <th>sentiment_score</th>\n",
       "    </tr>\n",
       "  </thead>\n",
       "  <tbody>\n",
       "    <tr>\n",
       "      <th>12</th>\n",
       "      <td>0.666633</td>\n",
       "      <td>0.357375</td>\n",
       "      <td>0.516777</td>\n",
       "      <td>3.417239</td>\n",
       "    </tr>\n",
       "    <tr>\n",
       "      <th>21</th>\n",
       "      <td>0.087439</td>\n",
       "      <td>0.392254</td>\n",
       "      <td>0.381551</td>\n",
       "      <td>3.537239</td>\n",
       "    </tr>\n",
       "    <tr>\n",
       "      <th>23</th>\n",
       "      <td>0.170834</td>\n",
       "      <td>0.424183</td>\n",
       "      <td>0.521550</td>\n",
       "      <td>3.527239</td>\n",
       "    </tr>\n",
       "    <tr>\n",
       "      <th>4</th>\n",
       "      <td>0.557140</td>\n",
       "      <td>0.284243</td>\n",
       "      <td>0.688299</td>\n",
       "      <td>3.407239</td>\n",
       "    </tr>\n",
       "    <tr>\n",
       "      <th>25</th>\n",
       "      <td>0.284144</td>\n",
       "      <td>0.780681</td>\n",
       "      <td>0.435723</td>\n",
       "      <td>3.627239</td>\n",
       "    </tr>\n",
       "    <tr>\n",
       "      <th>14</th>\n",
       "      <td>0.645081</td>\n",
       "      <td>0.456064</td>\n",
       "      <td>0.626103</td>\n",
       "      <td>3.457239</td>\n",
       "    </tr>\n",
       "    <tr>\n",
       "      <th>8</th>\n",
       "      <td>1.000000</td>\n",
       "      <td>0.127050</td>\n",
       "      <td>0.115428</td>\n",
       "      <td>3.297239</td>\n",
       "    </tr>\n",
       "    <tr>\n",
       "      <th>15</th>\n",
       "      <td>0.704026</td>\n",
       "      <td>0.396158</td>\n",
       "      <td>0.670943</td>\n",
       "      <td>3.427239</td>\n",
       "    </tr>\n",
       "    <tr>\n",
       "      <th>1</th>\n",
       "      <td>0.774551</td>\n",
       "      <td>0.065339</td>\n",
       "      <td>0.544360</td>\n",
       "      <td>3.297239</td>\n",
       "    </tr>\n",
       "    <tr>\n",
       "      <th>6</th>\n",
       "      <td>0.694257</td>\n",
       "      <td>0.272053</td>\n",
       "      <td>0.494745</td>\n",
       "      <td>3.377239</td>\n",
       "    </tr>\n",
       "    <tr>\n",
       "      <th>20</th>\n",
       "      <td>0.288518</td>\n",
       "      <td>0.888156</td>\n",
       "      <td>0.630478</td>\n",
       "      <td>3.657239</td>\n",
       "    </tr>\n",
       "    <tr>\n",
       "      <th>10</th>\n",
       "      <td>0.645081</td>\n",
       "      <td>0.456064</td>\n",
       "      <td>0.626103</td>\n",
       "      <td>3.457239</td>\n",
       "    </tr>\n",
       "  </tbody>\n",
       "</table>\n",
       "</div>"
      ],
      "text/plain": [
       "    perc_Negative  perc_Positive  perc_Uncertainty  sentiment_score\n",
       "12       0.666633       0.357375          0.516777         3.417239\n",
       "21       0.087439       0.392254          0.381551         3.537239\n",
       "23       0.170834       0.424183          0.521550         3.527239\n",
       "4        0.557140       0.284243          0.688299         3.407239\n",
       "25       0.284144       0.780681          0.435723         3.627239\n",
       "14       0.645081       0.456064          0.626103         3.457239\n",
       "8        1.000000       0.127050          0.115428         3.297239\n",
       "15       0.704026       0.396158          0.670943         3.427239\n",
       "1        0.774551       0.065339          0.544360         3.297239\n",
       "6        0.694257       0.272053          0.494745         3.377239\n",
       "20       0.288518       0.888156          0.630478         3.657239\n",
       "10       0.645081       0.456064          0.626103         3.457239"
      ]
     },
     "metadata": {},
     "output_type": "display_data"
    },
    {
     "data": {
      "text/plain": [
       "['loss',\n",
       " 'profit',\n",
       " 'profit',\n",
       " 'profit',\n",
       " 'loss',\n",
       " 'profit',\n",
       " 'profit',\n",
       " 'loss',\n",
       " 'loss',\n",
       " 'loss',\n",
       " 'profit',\n",
       " 'profit']"
      ]
     },
     "metadata": {},
     "output_type": "display_data"
    },
    {
     "data": {
      "text/html": [
       "<div>\n",
       "<style scoped>\n",
       "    .dataframe tbody tr th:only-of-type {\n",
       "        vertical-align: middle;\n",
       "    }\n",
       "\n",
       "    .dataframe tbody tr th {\n",
       "        vertical-align: top;\n",
       "    }\n",
       "\n",
       "    .dataframe thead th {\n",
       "        text-align: right;\n",
       "    }\n",
       "</style>\n",
       "<table border=\"1\" class=\"dataframe\">\n",
       "  <thead>\n",
       "    <tr style=\"text-align: right;\">\n",
       "      <th></th>\n",
       "      <th>perc_Negative</th>\n",
       "      <th>perc_Positive</th>\n",
       "      <th>perc_Uncertainty</th>\n",
       "      <th>sentiment_score</th>\n",
       "    </tr>\n",
       "  </thead>\n",
       "  <tbody>\n",
       "    <tr>\n",
       "      <th>9</th>\n",
       "      <td>0.922840</td>\n",
       "      <td>0.153843</td>\n",
       "      <td>0.118530</td>\n",
       "      <td>3.307239</td>\n",
       "    </tr>\n",
       "    <tr>\n",
       "      <th>2</th>\n",
       "      <td>0.783443</td>\n",
       "      <td>0.008863</td>\n",
       "      <td>0.633766</td>\n",
       "      <td>3.267239</td>\n",
       "    </tr>\n",
       "    <tr>\n",
       "      <th>26</th>\n",
       "      <td>0.294337</td>\n",
       "      <td>1.000000</td>\n",
       "      <td>0.256934</td>\n",
       "      <td>3.687239</td>\n",
       "    </tr>\n",
       "    <tr>\n",
       "      <th>5</th>\n",
       "      <td>0.585866</td>\n",
       "      <td>0.278595</td>\n",
       "      <td>0.643649</td>\n",
       "      <td>3.397239</td>\n",
       "    </tr>\n",
       "    <tr>\n",
       "      <th>18</th>\n",
       "      <td>0.359784</td>\n",
       "      <td>0.691433</td>\n",
       "      <td>0.807550</td>\n",
       "      <td>3.587239</td>\n",
       "    </tr>\n",
       "    <tr>\n",
       "      <th>22</th>\n",
       "      <td>0.155408</td>\n",
       "      <td>0.430820</td>\n",
       "      <td>0.508940</td>\n",
       "      <td>3.537239</td>\n",
       "    </tr>\n",
       "  </tbody>\n",
       "</table>\n",
       "</div>"
      ],
      "text/plain": [
       "    perc_Negative  perc_Positive  perc_Uncertainty  sentiment_score\n",
       "9        0.922840       0.153843          0.118530         3.307239\n",
       "2        0.783443       0.008863          0.633766         3.267239\n",
       "26       0.294337       1.000000          0.256934         3.687239\n",
       "5        0.585866       0.278595          0.643649         3.397239\n",
       "18       0.359784       0.691433          0.807550         3.587239\n",
       "22       0.155408       0.430820          0.508940         3.537239"
      ]
     },
     "metadata": {},
     "output_type": "display_data"
    },
    {
     "data": {
      "text/plain": [
       "['loss', 'loss', 'loss', 'profit', 'profit', 'loss']"
      ]
     },
     "metadata": {},
     "output_type": "display_data"
    }
   ],
   "source": [
    "import edgar_data_processing as edp\n",
    "\n",
    "file_path = r'C:\\Edgar_Unit_Tests\\Model_Demo\\sentiment_analysis.csv'\n",
    "target = '1daily_return'\n",
    "normalised_cols = ['perc_Positive', 'perc_Negative', 'perc_Uncertainty']\n",
    "z_normalised_cols = ['sentiment_score']\n",
    "cat_type = 'rel'\n",
    "categories = {'loss':['lessequal',0], 'profit':['greater',0]}\n",
    "\n",
    "X_train, y_train, X_test, y_test = edp.get_test_train_split(file_path,\n",
    "                            target,\n",
    "                            normalised_cols = normalised_cols,\n",
    "                            z_normalised_cols = z_normalised_cols,\n",
    "                            cat_type = cat_type,\n",
    "                            categories = categories\n",
    "                            )\n",
    "\n",
    "display(X_train)\n",
    "display(list(y_train))\n",
    "display(X_test)\n",
    "display(list(y_test))"
   ]
  },
  {
   "cell_type": "code",
   "execution_count": 4,
   "metadata": {},
   "outputs": [
    {
     "data": {
      "image/png": "[encoded data removed]",
      "text/plain": [
       "<Figure size 640x480 with 2 Axes>"
      ]
     },
     "metadata": {},
     "output_type": "display_data"
    },
    {
     "name": "stdout",
     "output_type": "stream",
     "text": [
      "Accuracy score is 0.5\n"
     ]
    }
   ],
   "source": [
    "from sklearn.ensemble import RandomForestClassifier\n",
    "import matplotlib.pyplot as plt\n",
    "from sklearn.metrics import confusion_matrix, ConfusionMatrixDisplay\n",
    "from sklearn.metrics import accuracy_score\n",
    "\n",
    "rfc = RandomForestClassifier(n_estimators = 50, max_depth = 4, random_state = 0)\n",
    "rfc.fit(X_train, y_train)\n",
    "y_pred = rfc.predict(X_test)\n",
    "\n",
    "cm = confusion_matrix(y_test, y_pred)\n",
    "\n",
    "cm_plot = ConfusionMatrixDisplay(cm)\n",
    "cm_plot.plot(cmap=\"OrRd\")\n",
    "plt.show()\n",
    "\n",
    "acc_score = accuracy_score(y_test, y_pred)\n",
    "print(f'Accuracy score is {acc_score}')"
   ]
  }
 ],
 "metadata": {
  "kernelspec": {
   "display_name": "Python 3",
   "language": "python",
   "name": "python3"
  },
  "language_info": {
   "codemirror_mode": {
    "name": "ipython",
    "version": 3
   },
   "file_extension": ".py",
   "mimetype": "text/x-python",
   "name": "python",
   "nbconvert_exporter": "python",
   "pygments_lexer": "ipython3",
   "version": "3.10.6"
  },
  "orig_nbformat": 4,
  "vscode": {
   "interpreter": {
    "hash": "369f2c481f4da34e4445cda3fffd2e751bd1c4d706f27375911949ba6bb62e1c"
   }
  }
 },
 "nbformat": 4,
 "nbformat_minor": 2
}
