{
 "cells": [
  {
   "attachments": {},
   "cell_type": "markdown",
   "metadata": {},
   "source": [
    "Unit Tests: Edgar Downloader"
   ]
  },
  {
   "cell_type": "code",
   "execution_count": null,
   "metadata": {},
   "outputs": [],
   "source": [
    "import edgar_downloader as ed\n",
    "\n",
    "destination_folder = r'C:\\Edgar_Unit_Tests\\raw_files'\n",
    "\n",
    "ed.download_files_10k('AAPL', destination_folder, min_date = '2020-01-01')"
   ]
  },
  {
   "attachments": {},
   "cell_type": "markdown",
   "metadata": {},
   "source": [
    "Unit Tests: Edgar Cleaner"
   ]
  },
  {
   "cell_type": "code",
   "execution_count": null,
   "metadata": {},
   "outputs": [],
   "source": [
    "import edgar_cleaner as ec\n",
    "\n",
    "source_folder = r'C:\\Edgar_Unit_Tests\\raw_files'\n",
    "dest_folder = r'C:\\Edgar_Unit_Tests\\clean_files'\n",
    "\n",
    "ec.write_clean_html_text_files(source_folder, dest_folder)"
   ]
  },
  {
   "attachments": {},
   "cell_type": "markdown",
   "metadata": {},
   "source": [
    "Unit Tests: Ref Data"
   ]
  },
  {
   "cell_type": "code",
   "execution_count": null,
   "metadata": {},
   "outputs": [],
   "source": [
    "import edgar_sentiment_wordcount as esw\n",
    "\n",
    "input_folder = r'C:\\Edgar_Unit_Tests\\clean_files'\n",
    "output_file = r'C:\\Edgar_Unit_Tests\\sentiment_wordcount.csv'\n",
    "\n",
    "esw.write_document_sentiments(input_folder, output_file)"
   ]
  },
  {
   "attachments": {},
   "cell_type": "markdown",
   "metadata": {},
   "source": [
    "Unit Tests: Edgar Sentiment Analysis Prep"
   ]
  },
  {
   "cell_type": "code",
   "execution_count": null,
   "metadata": {},
   "outputs": [],
   "source": [
    "import edgar_sentiment_analysis_prep as esap\n",
    "\n",
    "output_file_name = 'sentiment_analysis'\n",
    "ticker_list = ['AAPL', 'MSFT', 'XOM', \"AMZN\", \"BRK-B\", \"GOOGL\", \"UNH\", \"GOOG\"]\n",
    "dest_folder = r'C:\\Edgar_Unit_Tests'\n",
    "min_date = '2020-01-01'\n",
    "\n",
    "esap.full_train_dataset(output_file_name,\n",
    "                       ticker_list, \n",
    "                       dest_folder,\n",
    "                       min_date = min_date, \n",
    "                       user_email = 'gregsmith@kubrickgroup.com')"
   ]
  },
  {
   "attachments": {},
   "cell_type": "markdown",
   "metadata": {},
   "source": [
    "Unit Test: Edgar Data Processing"
   ]
  },
  {
   "cell_type": "code",
   "execution_count": null,
   "metadata": {},
   "outputs": [],
   "source": [
    "import edgar_data_processing as edp\n",
    "\n",
    "file_path = r'C:\\Edgar_Unit_Tests\\sentiment_analysis.csv'\n",
    "target = '1daily_return'\n",
    "normalised_cols = ['perc_Positive', 'perc_Negative', 'perc_Uncertainty']\n",
    "z_normalised_cols = ['sentiment_score']\n",
    "cat_type = 'rel'\n",
    "categories = {'loss':['lessequal',0], 'profit':['greater',0]}\n",
    "\n",
    "X_train, y_train, X_test, y_test = edp.get_test_train_split(file_path,\n",
    "                            target,\n",
    "                            normalised_cols = normalised_cols,\n",
    "                            z_normalised_cols = z_normalised_cols,\n",
    "                            cat_type = cat_type,\n",
    "                            categories = categories\n",
    "                            )\n",
    "\n",
    "display(X_train)\n",
    "display(list(y_train))\n",
    "display(X_test)\n",
    "display(list(y_test))"
   ]
  },
  {
   "cell_type": "code",
   "execution_count": null,
   "metadata": {},
   "outputs": [],
   "source": [
    "from sklearn.ensemble import RandomForestClassifier\n",
    "import matplotlib.pyplot as plt\n",
    "from sklearn.metrics import confusion_matrix, ConfusionMatrixDisplay\n",
    "from sklearn.metrics import accuracy_score\n",
    "\n",
    "rfc = RandomForestClassifier(n_estimators = 50, max_depth = 4, random_state = 0)\n",
    "rfc.fit(X_train, y_train)\n",
    "y_pred = rfc.predict(X_test)\n",
    "\n",
    "cm = confusion_matrix(y_test, y_pred)\n",
    "\n",
    "cm_plot = ConfusionMatrixDisplay(cm)\n",
    "cm_plot.plot(cmap=\"OrRd\")\n",
    "plt.show()\n",
    "\n",
    "acc_score = accuracy_score(y_test, y_pred)\n",
    "print(f'Accuracy score is {acc_score}')"
   ]
  }
 ],
 "metadata": {
  "kernelspec": {
   "display_name": "Python 3",
   "language": "python",
   "name": "python3"
  },
  "language_info": {
   "codemirror_mode": {
    "name": "ipython",
    "version": 3
   },
   "file_extension": ".py",
   "mimetype": "text/x-python",
   "name": "python",
   "nbconvert_exporter": "python",
   "pygments_lexer": "ipython3",
   "version": "3.10.8"
  },
  "orig_nbformat": 4,
  "vscode": {
   "interpreter": {
    "hash": "369f2c481f4da34e4445cda3fffd2e751bd1c4d706f27375911949ba6bb62e1c"
   }
  }
 },
 "nbformat": 4,
 "nbformat_minor": 2
}
