{
 "cells": [
  {
   "cell_type": "markdown",
   "id": "8c43da26",
   "metadata": {},
   "source": [
    "Below is a working example of how to import the module 'ref_data' and use the .get_yahoo_data() method."
   ]
  },
  {
   "cell_type": "code",
   "execution_count": null,
   "id": "13f44654",
   "metadata": {},
   "outputs": [],
   "source": [
    "import ref_data as edgar_data\n",
    "df_returns = edgar_data.get_yahoo_data('2000-01-01', '2020-08-01', 'AAPL')\n",
    "display(df_returns)"
   ]
  },
  {
   "cell_type": "markdown",
   "id": "06c92aba",
   "metadata": {},
   "source": [
    "Running the code below will write the yahoo finance reference data to file. "
   ]
  },
  {
   "cell_type": "code",
   "execution_count": null,
   "id": "48267ad8",
   "metadata": {},
   "outputs": [],
   "source": [
    "df_returns.to_csv('C:/stock_returns_daily.csv', index=False)"
   ]
  }
 ],
 "metadata": {
  "kernelspec": {
   "display_name": "Python 3 (ipykernel)",
   "language": "python",
   "name": "python3"
  },
  "language_info": {
   "codemirror_mode": {
    "name": "ipython",
    "version": 3
   },
   "file_extension": ".py",
   "mimetype": "text/x-python",
   "name": "python",
   "nbconvert_exporter": "python",
   "pygments_lexer": "ipython3",
   "version": "3.10.8"
  }
 },
 "nbformat": 4,
 "nbformat_minor": 5
}
