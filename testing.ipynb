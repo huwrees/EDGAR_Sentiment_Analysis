{
 "cells": [
  {
   "cell_type": "code",
   "execution_count": 16,
   "id": "127bfe56",
   "metadata": {},
   "outputs": [],
   "source": [
    "import edgar_downloader as ed"
   ]
  },
  {
   "cell_type": "code",
   "execution_count": null,
   "id": "db3294ba",
   "metadata": {},
   "outputs": [],
   "source": [
    "ed.download_files_10k('aapl', r'C:\\Edgar_EC\\test_output', 'gregsmith@kubickgroup.com', min_date='2010-01-01')"
   ]
  },
  {
   "cell_type": "code",
   "execution_count": 15,
   "id": "8c884fb7",
   "metadata": {},
   "outputs": [],
   "source": [
    "import edgar_cleaner as ec"
   ]
  },
  {
   "cell_type": "code",
   "execution_count": null,
   "id": "554a9c3f",
   "metadata": {},
   "outputs": [],
   "source": [
    "ec.write_clean_html_text_files(r'C:\\Edgar_EC\\test_output', r'C:\\Edgar_EC\\test_output_2')"
   ]
  },
  {
   "cell_type": "code",
   "execution_count": 13,
   "id": "aea9e0aa",
   "metadata": {},
   "outputs": [],
   "source": [
    "import ref_data as ref_data"
   ]
  },
  {
   "cell_type": "code",
   "execution_count": 1,
   "id": "c247e819",
   "metadata": {},
   "outputs": [],
   "source": [
    "import edgar_sentiment_wordcount as esw"
   ]
  },
  {
   "cell_type": "code",
   "execution_count": 2,
   "id": "bf9b9d82",
   "metadata": {},
   "outputs": [],
   "source": [
    "esw.write_document_sentiments(r'C:\\Edgar_EC\\test_output_2', r'C:\\Edgar_EC\\sentiment_factors.csv')"
   ]
  },
  {
   "cell_type": "code",
   "execution_count": 12,
   "id": "d7f16cf3",
   "metadata": {},
   "outputs": [
    {
     "ename": "NameError",
     "evalue": "name 'ref_data' is not defined",
     "output_type": "error",
     "traceback": [
      "\u001b[1;31m---------------------------------------------------------------------------\u001b[0m",
      "\u001b[1;31mNameError\u001b[0m                                 Traceback (most recent call last)",
      "Cell \u001b[1;32mIn[12], line 1\u001b[0m\n\u001b[1;32m----> 1\u001b[0m ref_data\u001b[39m.\u001b[39mget_yahoo_data(\u001b[39m'\u001b[39m\u001b[39m2010-01-01\u001b[39m\u001b[39m'\u001b[39m, \u001b[39m'\u001b[39m\u001b[39m2023-01-01\u001b[39m\u001b[39m'\u001b[39m, \u001b[39m'\u001b[39m\u001b[39mAAPL\u001b[39m\u001b[39m'\u001b[39m)\n",
      "\u001b[1;31mNameError\u001b[0m: name 'ref_data' is not defined"
     ]
    }
   ],
   "source": [
    "ref_data.get_yahoo_data('2010-01-01', '2023-01-01', 'AAPL')"
   ]
  },
  {
   "cell_type": "code",
   "execution_count": 5,
   "id": "083bbf4f",
   "metadata": {},
   "outputs": [],
   "source": [
    "import edgar_sentiment_analysis_prep as esap"
   ]
  },
  {
   "cell_type": "code",
   "execution_count": 17,
   "id": "b7eaeda4",
   "metadata": {},
   "outputs": [
    {
     "name": "stdout",
     "output_type": "stream",
     "text": [
      "done\n"
     ]
    },
    {
     "name": "stderr",
     "output_type": "stream",
     "text": [
      "c:\\Edgar_EC\\edgar_ec_2\\edgar_ec\\ref_data.py:41: FutureWarning: The frame.append method is deprecated and will be removed from pandas in a future version. Use pandas.concat instead.\n",
      "  data = data.append(ticker_data, sort=False)\n",
      "c:\\Edgar_EC\\edgar_ec_2\\edgar_ec\\ref_data.py:41: FutureWarning: The frame.append method is deprecated and will be removed from pandas in a future version. Use pandas.concat instead.\n",
      "  data = data.append(ticker_data, sort=False)\n",
      "c:\\Edgar_EC\\edgar_ec_2\\edgar_ec\\ref_data.py:41: FutureWarning: The frame.append method is deprecated and will be removed from pandas in a future version. Use pandas.concat instead.\n",
      "  data = data.append(ticker_data, sort=False)\n",
      "c:\\Edgar_EC\\edgar_ec_2\\edgar_ec\\ref_data.py:41: FutureWarning: The frame.append method is deprecated and will be removed from pandas in a future version. Use pandas.concat instead.\n",
      "  data = data.append(ticker_data, sort=False)\n",
      "c:\\Edgar_EC\\edgar_ec_2\\edgar_ec\\ref_data.py:41: FutureWarning: The frame.append method is deprecated and will be removed from pandas in a future version. Use pandas.concat instead.\n",
      "  data = data.append(ticker_data, sort=False)\n",
      "c:\\Edgar_EC\\edgar_ec_2\\edgar_ec\\ref_data.py:41: FutureWarning: The frame.append method is deprecated and will be removed from pandas in a future version. Use pandas.concat instead.\n",
      "  data = data.append(ticker_data, sort=False)\n",
      "c:\\Edgar_EC\\edgar_ec_2\\edgar_ec\\ref_data.py:41: FutureWarning: The frame.append method is deprecated and will be removed from pandas in a future version. Use pandas.concat instead.\n",
      "  data = data.append(ticker_data, sort=False)\n",
      "c:\\Edgar_EC\\edgar_ec_2\\edgar_ec\\ref_data.py:41: FutureWarning: The frame.append method is deprecated and will be removed from pandas in a future version. Use pandas.concat instead.\n",
      "  data = data.append(ticker_data, sort=False)\n",
      "c:\\Edgar_EC\\edgar_ec_2\\edgar_ec\\ref_data.py:41: FutureWarning: The frame.append method is deprecated and will be removed from pandas in a future version. Use pandas.concat instead.\n",
      "  data = data.append(ticker_data, sort=False)\n",
      "c:\\Edgar_EC\\edgar_ec_2\\edgar_ec\\ref_data.py:41: FutureWarning: The frame.append method is deprecated and will be removed from pandas in a future version. Use pandas.concat instead.\n",
      "  data = data.append(ticker_data, sort=False)\n",
      "c:\\Edgar_EC\\edgar_ec_2\\edgar_ec\\ref_data.py:41: FutureWarning: The frame.append method is deprecated and will be removed from pandas in a future version. Use pandas.concat instead.\n",
      "  data = data.append(ticker_data, sort=False)\n",
      "c:\\Edgar_EC\\edgar_ec_2\\edgar_ec\\ref_data.py:41: FutureWarning: The frame.append method is deprecated and will be removed from pandas in a future version. Use pandas.concat instead.\n",
      "  data = data.append(ticker_data, sort=False)\n",
      "c:\\Edgar_EC\\edgar_ec_2\\edgar_ec\\ref_data.py:41: FutureWarning: The frame.append method is deprecated and will be removed from pandas in a future version. Use pandas.concat instead.\n",
      "  data = data.append(ticker_data, sort=False)\n",
      "c:\\Edgar_EC\\edgar_ec_2\\edgar_ec\\ref_data.py:41: FutureWarning: The frame.append method is deprecated and will be removed from pandas in a future version. Use pandas.concat instead.\n",
      "  data = data.append(ticker_data, sort=False)\n",
      "c:\\Edgar_EC\\edgar_ec_2\\edgar_ec\\ref_data.py:41: FutureWarning: The frame.append method is deprecated and will be removed from pandas in a future version. Use pandas.concat instead.\n",
      "  data = data.append(ticker_data, sort=False)\n",
      "c:\\Edgar_EC\\edgar_ec_2\\edgar_ec\\edgar_sentiment_analysis_prep.py:69: FutureWarning: Dropping of nuisance columns in DataFrame reductions (with 'numeric_only=None') is deprecated; in a future version this will raise TypeError.  Select only valid columns before calling the reduction.\n",
      "  new_df['word_sum'] = new_df.sum(axis = 1)                                           # Calculate total number of categorised words from the report\n"
     ]
    }
   ],
   "source": [
    "def full_train_dataset(): # input_min_date = None, input_max_date = None\n",
    "    '''\n",
    "    Creates a csv to specified file path\n",
    "    '''\n",
    "\n",
    "    #needs to create a new temp folder to drop raw files into, process them then delete, and a specified folder argument for the output\n",
    "\n",
    "    tickers_sp100 = ref_data.get_sp100()\n",
    "    #ed.download_files_10k(‘AAPL’, ‘C:/10k_filings_raw’)\n",
    "    ed.full_download(tickers_sp100, r'C:\\10k_filings_raw', 'gregsmith@kubrickgroup.com', min_date = '2022-01-01', report = '10-K') #min_date = input_min_date, max_date = input_max_date,\n",
    "\n",
    "    ec.write_clean_html_text_files(r'C:\\10k_filings_raw', r'C:\\10k_filings_clean')\n",
    "\n",
    "    #df_returns = rf.get_yahoo_data(input_min_date, input_max_date, tickers_sp100, 'daily')\n",
    "    df_returns = ref_data.get_yahoo_data('2022-01-01', '2023-08-01', tickers_sp100) # Need to decide dates as I have to pass a date here\n",
    "    df_returns.to_csv(r'C:\\Edgar_EC\\test_output\\stock_returns_daily.csv', index=False)\n",
    "    sentiment_dict = ref_data.get_sentiment_word_dict()\n",
    "\n",
    "    esw.write_document_sentiments(r'C:\\10k_filings_clean', r'C:\\Edgar_EC\\test_output\\sentiment_factors.csv')\n",
    "\n",
    "    # Load Data\n",
    "    stock_returns_daily_df = pd.read_csv(r'C:\\Edgar_EC\\test_output\\stock_returns_daily.csv')                         # Load in stock return data\n",
    "    sentiment_factors_df = pd.read_csv(r'C:\\Edgar_EC\\test_output\\sentiment_factors.csv')                             # Load in sentiment word count data\n",
    "    #stock_returns_daily_df = pd.read_csv('C:/EDGAR/example_shares_output2.csv')   \n",
    "    #sentiment_factors_df = pd.read_csv('C:/EDGAR/example_sentiment_analysis.csv')  \n",
    "    \n",
    "    # Processing and Feature Engineering\n",
    "    full_stock_returns_daily_df = esap.stock_returns_prep(stock_returns_daily_df)\n",
    "    full_sentiment_factors_df = esap.sentiment_factors_prep(sentiment_factors_df)\n",
    "    \n",
    "    # Combine Datasets\n",
    "    full_combined_df = pd.merge(full_sentiment_factors_df, full_stock_returns_daily_df, on = ['Date', 'Symbol'], how = 'left')\n",
    "\n",
    "    full_combined_df.to_csv(r'C:\\Edgar_EC\\test_output\\full_dataset.csv', index = False)              # Will need to decide a better place for this\n",
    "\n",
    "full_train_dataset()\n",
    "    \n"
   ]
  }
 ],
 "metadata": {
  "kernelspec": {
   "display_name": "Python 3",
   "language": "python",
   "name": "python3"
  },
  "language_info": {
   "codemirror_mode": {
    "name": "ipython",
    "version": 3
   },
   "file_extension": ".py",
   "mimetype": "text/x-python",
   "name": "python",
   "nbconvert_exporter": "python",
   "pygments_lexer": "ipython3",
   "version": "3.10.8"
  },
  "vscode": {
   "interpreter": {
    "hash": "369f2c481f4da34e4445cda3fffd2e751bd1c4d706f27375911949ba6bb62e1c"
   }
  }
 },
 "nbformat": 4,
 "nbformat_minor": 5
}
