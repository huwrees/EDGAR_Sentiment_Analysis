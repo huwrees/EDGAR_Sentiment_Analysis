{
 "cells": [
  {
   "cell_type": "code",
   "execution_count": 1,
   "id": "127bfe56",
   "metadata": {},
   "outputs": [],
   "source": [
    "import edgar_downloader as ed"
   ]
  },
  {
   "cell_type": "code",
   "execution_count": 2,
   "id": "db3294ba",
   "metadata": {},
   "outputs": [],
   "source": [
    "ed.download_files_10k('aapl', r'C:\\Edgar_EC\\test_output', 'gregsmith@kubickgroup.com', min_date='2010-01-01')"
   ]
  },
  {
   "cell_type": "code",
   "execution_count": 3,
   "id": "8c884fb7",
   "metadata": {},
   "outputs": [],
   "source": [
    "import edgar_cleaner as ec"
   ]
  },
  {
   "cell_type": "code",
   "execution_count": 5,
   "id": "554a9c3f",
   "metadata": {},
   "outputs": [
    {
     "name": "stdout",
     "output_type": "stream",
     "text": [
      "done\n"
     ]
    }
   ],
   "source": [
    "ec.write_clean_html_text_files(r'C:\\Edgar_EC\\test_output', r'C:\\Edgar_EC\\test_output_2')"
   ]
  },
  {
   "cell_type": "code",
   "execution_count": 4,
   "id": "aea9e0aa",
   "metadata": {},
   "outputs": [],
   "source": [
    "import ref_data as ref_data"
   ]
  },
  {
   "cell_type": "code",
   "execution_count": 5,
   "id": "c247e819",
   "metadata": {},
   "outputs": [],
   "source": [
    "import edgar_sentiment_wordcount as esw"
   ]
  },
  {
   "cell_type": "code",
   "execution_count": 9,
   "id": "bf9b9d82",
   "metadata": {},
   "outputs": [],
   "source": [
    "esw.write_document_sentiments(r'C:\\Edgar_EC\\test_output_2', r'C:\\Edgar_EC\\sentiment_factors.csv')"
   ]
  },
  {
   "cell_type": "code",
   "execution_count": 11,
   "id": "d7f16cf3",
   "metadata": {},
   "outputs": [
    {
     "name": "stderr",
     "output_type": "stream",
     "text": [
      "C:\\Edgar_EC\\edgar_ec_2\\edgar_ec\\ref_data.py:41: FutureWarning: The frame.append method is deprecated and will be removed from pandas in a future version. Use pandas.concat instead.\n",
      "  data = data.append(ticker_data, sort=False)\n"
     ]
    },
    {
     "data": {
      "text/html": [
       "<div>\n",
       "<style scoped>\n",
       "    .dataframe tbody tr th:only-of-type {\n",
       "        vertical-align: middle;\n",
       "    }\n",
       "\n",
       "    .dataframe tbody tr th {\n",
       "        vertical-align: top;\n",
       "    }\n",
       "\n",
       "    .dataframe thead th {\n",
       "        text-align: right;\n",
       "    }\n",
       "</style>\n",
       "<table border=\"1\" class=\"dataframe\">\n",
       "  <thead>\n",
       "    <tr style=\"text-align: right;\">\n",
       "      <th></th>\n",
       "      <th>Date</th>\n",
       "      <th>High</th>\n",
       "      <th>Low</th>\n",
       "      <th>Close</th>\n",
       "      <th>volume</th>\n",
       "      <th>1daily_return</th>\n",
       "      <th>2daily_return</th>\n",
       "      <th>3daily_return</th>\n",
       "      <th>5daily_return</th>\n",
       "      <th>10daily_return</th>\n",
       "      <th>Symbol</th>\n",
       "    </tr>\n",
       "  </thead>\n",
       "  <tbody>\n",
       "    <tr>\n",
       "      <th>0</th>\n",
       "      <td>2010-01-04</td>\n",
       "      <td>7.660714</td>\n",
       "      <td>7.585000</td>\n",
       "      <td>7.643214</td>\n",
       "      <td>493729600</td>\n",
       "      <td>0.001729</td>\n",
       "      <td>-0.014205</td>\n",
       "      <td>-0.016027</td>\n",
       "      <td>-0.018223</td>\n",
       "      <td>0.004813</td>\n",
       "      <td>AAPL</td>\n",
       "    </tr>\n",
       "    <tr>\n",
       "      <th>1</th>\n",
       "      <td>2010-01-05</td>\n",
       "      <td>7.699643</td>\n",
       "      <td>7.616071</td>\n",
       "      <td>7.656429</td>\n",
       "      <td>601904800</td>\n",
       "      <td>-0.015906</td>\n",
       "      <td>-0.017726</td>\n",
       "      <td>-0.011195</td>\n",
       "      <td>-0.031066</td>\n",
       "      <td>-0.012361</td>\n",
       "      <td>AAPL</td>\n",
       "    </tr>\n",
       "    <tr>\n",
       "      <th>2</th>\n",
       "      <td>2010-01-06</td>\n",
       "      <td>7.686786</td>\n",
       "      <td>7.526786</td>\n",
       "      <td>7.534643</td>\n",
       "      <td>552160000</td>\n",
       "      <td>-0.001849</td>\n",
       "      <td>0.004787</td>\n",
       "      <td>-0.004076</td>\n",
       "      <td>-0.001517</td>\n",
       "      <td>-0.013746</td>\n",
       "      <td>AAPL</td>\n",
       "    </tr>\n",
       "    <tr>\n",
       "      <th>3</th>\n",
       "      <td>2010-01-07</td>\n",
       "      <td>7.571429</td>\n",
       "      <td>7.466071</td>\n",
       "      <td>7.520714</td>\n",
       "      <td>477131200</td>\n",
       "      <td>0.006648</td>\n",
       "      <td>-0.002232</td>\n",
       "      <td>-0.013582</td>\n",
       "      <td>-0.005461</td>\n",
       "      <td>-0.060927</td>\n",
       "      <td>AAPL</td>\n",
       "    </tr>\n",
       "    <tr>\n",
       "      <th>4</th>\n",
       "      <td>2010-01-08</td>\n",
       "      <td>7.571429</td>\n",
       "      <td>7.466429</td>\n",
       "      <td>7.570714</td>\n",
       "      <td>447610800</td>\n",
       "      <td>-0.008821</td>\n",
       "      <td>-0.020096</td>\n",
       "      <td>-0.006274</td>\n",
       "      <td>-0.028540</td>\n",
       "      <td>-0.042032</td>\n",
       "      <td>AAPL</td>\n",
       "    </tr>\n",
       "    <tr>\n",
       "      <th>...</th>\n",
       "      <td>...</td>\n",
       "      <td>...</td>\n",
       "      <td>...</td>\n",
       "      <td>...</td>\n",
       "      <td>...</td>\n",
       "      <td>...</td>\n",
       "      <td>...</td>\n",
       "      <td>...</td>\n",
       "      <td>...</td>\n",
       "      <td>...</td>\n",
       "      <td>...</td>\n",
       "    </tr>\n",
       "    <tr>\n",
       "      <th>3263</th>\n",
       "      <td>2022-12-19</td>\n",
       "      <td>135.199997</td>\n",
       "      <td>131.320007</td>\n",
       "      <td>132.369995</td>\n",
       "      <td>79592600</td>\n",
       "      <td>-0.000529</td>\n",
       "      <td>0.023268</td>\n",
       "      <td>-0.001058</td>\n",
       "      <td>-0.017678</td>\n",
       "      <td>-0.045403</td>\n",
       "      <td>AAPL</td>\n",
       "    </tr>\n",
       "    <tr>\n",
       "      <th>3264</th>\n",
       "      <td>2022-12-20</td>\n",
       "      <td>133.250000</td>\n",
       "      <td>129.889999</td>\n",
       "      <td>132.300003</td>\n",
       "      <td>77432800</td>\n",
       "      <td>0.023809</td>\n",
       "      <td>-0.000529</td>\n",
       "      <td>-0.003326</td>\n",
       "      <td>-0.047317</td>\n",
       "      <td>-0.055027</td>\n",
       "      <td>AAPL</td>\n",
       "    </tr>\n",
       "    <tr>\n",
       "      <th>3265</th>\n",
       "      <td>2022-12-21</td>\n",
       "      <td>136.809998</td>\n",
       "      <td>132.750000</td>\n",
       "      <td>135.449997</td>\n",
       "      <td>85928000</td>\n",
       "      <td>-0.023773</td>\n",
       "      <td>-0.026504</td>\n",
       "      <td>-0.040015</td>\n",
       "      <td>-0.043116</td>\n",
       "      <td>-0.043042</td>\n",
       "      <td>AAPL</td>\n",
       "    </tr>\n",
       "    <tr>\n",
       "      <th>3266</th>\n",
       "      <td>2022-12-22</td>\n",
       "      <td>134.559998</td>\n",
       "      <td>130.300003</td>\n",
       "      <td>132.229996</td>\n",
       "      <td>77852100</td>\n",
       "      <td>-0.002798</td>\n",
       "      <td>-0.016638</td>\n",
       "      <td>-0.046812</td>\n",
       "      <td>-0.017394</td>\n",
       "      <td>-0.015730</td>\n",
       "      <td>AAPL</td>\n",
       "    </tr>\n",
       "    <tr>\n",
       "      <th>3267</th>\n",
       "      <td>2022-12-23</td>\n",
       "      <td>132.419998</td>\n",
       "      <td>129.639999</td>\n",
       "      <td>131.860001</td>\n",
       "      <td>63814900</td>\n",
       "      <td>-0.013878</td>\n",
       "      <td>-0.044138</td>\n",
       "      <td>-0.017064</td>\n",
       "      <td>-0.051494</td>\n",
       "      <td>-0.008570</td>\n",
       "      <td>AAPL</td>\n",
       "    </tr>\n",
       "  </tbody>\n",
       "</table>\n",
       "<p>3268 rows × 11 columns</p>\n",
       "</div>"
      ],
      "text/plain": [
       "            Date        High         Low       Close     volume  \\\n",
       "0     2010-01-04    7.660714    7.585000    7.643214  493729600   \n",
       "1     2010-01-05    7.699643    7.616071    7.656429  601904800   \n",
       "2     2010-01-06    7.686786    7.526786    7.534643  552160000   \n",
       "3     2010-01-07    7.571429    7.466071    7.520714  477131200   \n",
       "4     2010-01-08    7.571429    7.466429    7.570714  447610800   \n",
       "...          ...         ...         ...         ...        ...   \n",
       "3263  2022-12-19  135.199997  131.320007  132.369995   79592600   \n",
       "3264  2022-12-20  133.250000  129.889999  132.300003   77432800   \n",
       "3265  2022-12-21  136.809998  132.750000  135.449997   85928000   \n",
       "3266  2022-12-22  134.559998  130.300003  132.229996   77852100   \n",
       "3267  2022-12-23  132.419998  129.639999  131.860001   63814900   \n",
       "\n",
       "      1daily_return  2daily_return  3daily_return  5daily_return  \\\n",
       "0          0.001729      -0.014205      -0.016027      -0.018223   \n",
       "1         -0.015906      -0.017726      -0.011195      -0.031066   \n",
       "2         -0.001849       0.004787      -0.004076      -0.001517   \n",
       "3          0.006648      -0.002232      -0.013582      -0.005461   \n",
       "4         -0.008821      -0.020096      -0.006274      -0.028540   \n",
       "...             ...            ...            ...            ...   \n",
       "3263      -0.000529       0.023268      -0.001058      -0.017678   \n",
       "3264       0.023809      -0.000529      -0.003326      -0.047317   \n",
       "3265      -0.023773      -0.026504      -0.040015      -0.043116   \n",
       "3266      -0.002798      -0.016638      -0.046812      -0.017394   \n",
       "3267      -0.013878      -0.044138      -0.017064      -0.051494   \n",
       "\n",
       "      10daily_return Symbol  \n",
       "0           0.004813   AAPL  \n",
       "1          -0.012361   AAPL  \n",
       "2          -0.013746   AAPL  \n",
       "3          -0.060927   AAPL  \n",
       "4          -0.042032   AAPL  \n",
       "...              ...    ...  \n",
       "3263       -0.045403   AAPL  \n",
       "3264       -0.055027   AAPL  \n",
       "3265       -0.043042   AAPL  \n",
       "3266       -0.015730   AAPL  \n",
       "3267       -0.008570   AAPL  \n",
       "\n",
       "[3268 rows x 11 columns]"
      ]
     },
     "execution_count": 11,
     "metadata": {},
     "output_type": "execute_result"
    }
   ],
   "source": [
    "ref_data.get_yahoo_data('2010-01-01', '2023-01-01', 'AAPL')"
   ]
  },
  {
   "cell_type": "code",
   "execution_count": 16,
   "id": "083bbf4f",
   "metadata": {},
   "outputs": [],
   "source": [
    "import edgar_sentiment_analysis_prep as esap"
   ]
  },
  {
   "cell_type": "code",
   "execution_count": 7,
   "id": "b7eaeda4",
   "metadata": {},
   "outputs": [
    {
     "name": "stdout",
     "output_type": "stream",
     "text": [
      "done\n"
     ]
    },
    {
     "ename": "TypeError",
     "evalue": "get_yahoo_data() takes 3 positional arguments but 4 were given",
     "output_type": "error",
     "traceback": [
      "\u001b[1;31m---------------------------------------------------------------------------\u001b[0m",
      "\u001b[1;31mTypeError\u001b[0m                                 Traceback (most recent call last)",
      "Cell \u001b[1;32mIn[7], line 34\u001b[0m\n\u001b[0;32m     30\u001b[0m     full_combined_df \u001b[39m=\u001b[39m pd\u001b[39m.\u001b[39mmerge(full_stock_returns_daily_df, full_sentiment_factors_df, on \u001b[39m=\u001b[39m [\u001b[39m'\u001b[39m\u001b[39mDate\u001b[39m\u001b[39m'\u001b[39m, \u001b[39m'\u001b[39m\u001b[39mticker\u001b[39m\u001b[39m'\u001b[39m], how \u001b[39m=\u001b[39m \u001b[39m'\u001b[39m\u001b[39mleft\u001b[39m\u001b[39m'\u001b[39m)\n\u001b[0;32m     32\u001b[0m     full_combined_df\u001b[39m.\u001b[39mto_csv(\u001b[39mr\u001b[39m\u001b[39m'\u001b[39m\u001b[39mC:\u001b[39m\u001b[39m\\\u001b[39m\u001b[39mEDGAR\u001b[39m\u001b[39m\\\u001b[39m\u001b[39mfull_dataset.csv\u001b[39m\u001b[39m'\u001b[39m, index \u001b[39m=\u001b[39m \u001b[39mFalse\u001b[39;00m)              \u001b[39m# Will need to decide a better place for this\u001b[39;00m\n\u001b[1;32m---> 34\u001b[0m full_train_dataset()\n",
      "Cell \u001b[1;32mIn[7], line 13\u001b[0m, in \u001b[0;36mfull_train_dataset\u001b[1;34m()\u001b[0m\n\u001b[0;32m     10\u001b[0m ec\u001b[39m.\u001b[39mwrite_clean_html_text_files(\u001b[39mr\u001b[39m\u001b[39m'\u001b[39m\u001b[39mC:\u001b[39m\u001b[39m\\\u001b[39m\u001b[39m10k_filings_raw\u001b[39m\u001b[39m'\u001b[39m, \u001b[39mr\u001b[39m\u001b[39m'\u001b[39m\u001b[39mC:\u001b[39m\u001b[39m\\\u001b[39m\u001b[39m10k_filings_clean\u001b[39m\u001b[39m'\u001b[39m)\n\u001b[0;32m     12\u001b[0m \u001b[39m#df_returns = rf.get_yahoo_data(input_min_date, input_max_date, tickers_sp100, 'daily')\u001b[39;00m\n\u001b[1;32m---> 13\u001b[0m df_returns \u001b[39m=\u001b[39m ref_data\u001b[39m.\u001b[39;49mget_yahoo_data(\u001b[39m'\u001b[39;49m\u001b[39m2022-01-01\u001b[39;49m\u001b[39m'\u001b[39;49m, \u001b[39m'\u001b[39;49m\u001b[39m2023-08-01\u001b[39;49m\u001b[39m'\u001b[39;49m, tickers_sp100, \u001b[39m'\u001b[39;49m\u001b[39mdaily\u001b[39;49m\u001b[39m'\u001b[39;49m) \u001b[39m# Need to decide dates as I have to pass a date here\u001b[39;00m\n\u001b[0;32m     14\u001b[0m df_returns\u001b[39m.\u001b[39mto_csv(\u001b[39mr\u001b[39m\u001b[39m'\u001b[39m\u001b[39mC:\u001b[39m\u001b[39m\\\u001b[39m\u001b[39mstock_returns_daily.csv\u001b[39m\u001b[39m'\u001b[39m, index\u001b[39m=\u001b[39m\u001b[39mFalse\u001b[39;00m)\n\u001b[0;32m     15\u001b[0m sentiment_dict \u001b[39m=\u001b[39m ref_data\u001b[39m.\u001b[39mget_sentiment_word_dict()\n",
      "\u001b[1;31mTypeError\u001b[0m: get_yahoo_data() takes 3 positional arguments but 4 were given"
     ]
    }
   ],
   "source": [
    "def full_train_dataset(): # input_min_date = None, input_max_date = None\n",
    "    '''\n",
    "    Creates a csv to specified file path\n",
    "    '''\n",
    "\n",
    "    tickers_sp100 = ref_data.get_sp100()\n",
    "    #ed.download_files_10k(‘AAPL’, ‘C:/10k_filings_raw’)\n",
    "    ed.full_download([\"AAPL\", \"MSFT\", \"AMZN\", \"BRK-B\", \"GOOGL\", \"UNH\", \"GOOG\", \"JNJ\", \"XOM\", \"JPM\", \"NVDA\", \"PG\", \"V\", \"HD\", \"TSLA\"], r'C:\\10k_filings_raw', 'gregsmith@kubrickgroup.com', min_date = '2022-01-01', report = '10-K') #min_date = input_min_date, max_date = input_max_date,\n",
    "\n",
    "    ec.write_clean_html_text_files(r'C:\\10k_filings_raw', r'C:\\10k_filings_clean')\n",
    "    \n"
   ]
  },
  {
   "cell_type": "code",
   "execution_count": 10,
   "id": "86ebcad2",
   "metadata": {},
   "outputs": [
    {
     "name": "stderr",
     "output_type": "stream",
     "text": [
      "c:\\Edgar_EC\\edgar_ec_2\\edgar_ec\\ref_data.py:41: FutureWarning: The frame.append method is deprecated and will be removed from pandas in a future version. Use pandas.concat instead.\n",
      "  data = data.append(ticker_data, sort=False)\n",
      "c:\\Edgar_EC\\edgar_ec_2\\edgar_ec\\ref_data.py:41: FutureWarning: The frame.append method is deprecated and will be removed from pandas in a future version. Use pandas.concat instead.\n",
      "  data = data.append(ticker_data, sort=False)\n",
      "c:\\Edgar_EC\\edgar_ec_2\\edgar_ec\\ref_data.py:41: FutureWarning: The frame.append method is deprecated and will be removed from pandas in a future version. Use pandas.concat instead.\n",
      "  data = data.append(ticker_data, sort=False)\n",
      "c:\\Edgar_EC\\edgar_ec_2\\edgar_ec\\ref_data.py:41: FutureWarning: The frame.append method is deprecated and will be removed from pandas in a future version. Use pandas.concat instead.\n",
      "  data = data.append(ticker_data, sort=False)\n",
      "c:\\Edgar_EC\\edgar_ec_2\\edgar_ec\\ref_data.py:41: FutureWarning: The frame.append method is deprecated and will be removed from pandas in a future version. Use pandas.concat instead.\n",
      "  data = data.append(ticker_data, sort=False)\n",
      "c:\\Edgar_EC\\edgar_ec_2\\edgar_ec\\ref_data.py:41: FutureWarning: The frame.append method is deprecated and will be removed from pandas in a future version. Use pandas.concat instead.\n",
      "  data = data.append(ticker_data, sort=False)\n",
      "c:\\Edgar_EC\\edgar_ec_2\\edgar_ec\\ref_data.py:41: FutureWarning: The frame.append method is deprecated and will be removed from pandas in a future version. Use pandas.concat instead.\n",
      "  data = data.append(ticker_data, sort=False)\n",
      "c:\\Edgar_EC\\edgar_ec_2\\edgar_ec\\ref_data.py:41: FutureWarning: The frame.append method is deprecated and will be removed from pandas in a future version. Use pandas.concat instead.\n",
      "  data = data.append(ticker_data, sort=False)\n",
      "c:\\Edgar_EC\\edgar_ec_2\\edgar_ec\\ref_data.py:41: FutureWarning: The frame.append method is deprecated and will be removed from pandas in a future version. Use pandas.concat instead.\n",
      "  data = data.append(ticker_data, sort=False)\n",
      "c:\\Edgar_EC\\edgar_ec_2\\edgar_ec\\ref_data.py:41: FutureWarning: The frame.append method is deprecated and will be removed from pandas in a future version. Use pandas.concat instead.\n",
      "  data = data.append(ticker_data, sort=False)\n",
      "c:\\Edgar_EC\\edgar_ec_2\\edgar_ec\\ref_data.py:41: FutureWarning: The frame.append method is deprecated and will be removed from pandas in a future version. Use pandas.concat instead.\n",
      "  data = data.append(ticker_data, sort=False)\n",
      "c:\\Edgar_EC\\edgar_ec_2\\edgar_ec\\ref_data.py:41: FutureWarning: The frame.append method is deprecated and will be removed from pandas in a future version. Use pandas.concat instead.\n",
      "  data = data.append(ticker_data, sort=False)\n",
      "c:\\Edgar_EC\\edgar_ec_2\\edgar_ec\\ref_data.py:41: FutureWarning: The frame.append method is deprecated and will be removed from pandas in a future version. Use pandas.concat instead.\n",
      "  data = data.append(ticker_data, sort=False)\n",
      "c:\\Edgar_EC\\edgar_ec_2\\edgar_ec\\ref_data.py:41: FutureWarning: The frame.append method is deprecated and will be removed from pandas in a future version. Use pandas.concat instead.\n",
      "  data = data.append(ticker_data, sort=False)\n",
      "c:\\Edgar_EC\\edgar_ec_2\\edgar_ec\\ref_data.py:41: FutureWarning: The frame.append method is deprecated and will be removed from pandas in a future version. Use pandas.concat instead.\n",
      "  data = data.append(ticker_data, sort=False)\n"
     ]
    },
    {
     "ename": "NameError",
     "evalue": "name 'pd' is not defined",
     "output_type": "error",
     "traceback": [
      "\u001b[1;31m---------------------------------------------------------------------------\u001b[0m",
      "\u001b[1;31mNameError\u001b[0m                                 Traceback (most recent call last)",
      "Cell \u001b[1;32mIn[10], line 24\u001b[0m\n\u001b[0;32m     20\u001b[0m     full_combined_df \u001b[39m=\u001b[39m pd\u001b[39m.\u001b[39mmerge(full_stock_returns_daily_df, full_sentiment_factors_df, on \u001b[39m=\u001b[39m [\u001b[39m'\u001b[39m\u001b[39mDate\u001b[39m\u001b[39m'\u001b[39m, \u001b[39m'\u001b[39m\u001b[39mticker\u001b[39m\u001b[39m'\u001b[39m], how \u001b[39m=\u001b[39m \u001b[39m'\u001b[39m\u001b[39mleft\u001b[39m\u001b[39m'\u001b[39m)\n\u001b[0;32m     22\u001b[0m     full_combined_df\u001b[39m.\u001b[39mto_csv(\u001b[39mr\u001b[39m\u001b[39m'\u001b[39m\u001b[39mC:\u001b[39m\u001b[39m\\\u001b[39m\u001b[39mEdgar_EC\u001b[39m\u001b[39m\\\u001b[39m\u001b[39mtest_output\u001b[39m\u001b[39m\\\u001b[39m\u001b[39mfull_dataset.csv\u001b[39m\u001b[39m'\u001b[39m, index \u001b[39m=\u001b[39m \u001b[39mFalse\u001b[39;00m)              \u001b[39m# Will need to decide a better place for this\u001b[39;00m\n\u001b[1;32m---> 24\u001b[0m full_train_dataset()\n",
      "Cell \u001b[1;32mIn[10], line 10\u001b[0m, in \u001b[0;36mfull_train_dataset\u001b[1;34m()\u001b[0m\n\u001b[0;32m      7\u001b[0m esw\u001b[39m.\u001b[39mwrite_document_sentiments(\u001b[39mr\u001b[39m\u001b[39m'\u001b[39m\u001b[39mC:\u001b[39m\u001b[39m\\\u001b[39m\u001b[39m10k_filings_clean\u001b[39m\u001b[39m'\u001b[39m, \u001b[39mr\u001b[39m\u001b[39m'\u001b[39m\u001b[39mC:\u001b[39m\u001b[39m\\\u001b[39m\u001b[39mEdgar_EC\u001b[39m\u001b[39m\\\u001b[39m\u001b[39mtest_output\u001b[39m\u001b[39m\\\u001b[39m\u001b[39msentiment_factors.csv\u001b[39m\u001b[39m'\u001b[39m)\n\u001b[0;32m      9\u001b[0m \u001b[39m# Load Data\u001b[39;00m\n\u001b[1;32m---> 10\u001b[0m stock_returns_daily_df \u001b[39m=\u001b[39m pd\u001b[39m.\u001b[39mread_csv(\u001b[39mr\u001b[39m\u001b[39m'\u001b[39m\u001b[39mC:\u001b[39m\u001b[39m\\\u001b[39m\u001b[39mEdgar_EC\u001b[39m\u001b[39m\\\u001b[39m\u001b[39mtest_output\u001b[39m\u001b[39m\\\u001b[39m\u001b[39mstock_returns_daily.csv\u001b[39m\u001b[39m'\u001b[39m)                         \u001b[39m# Load in stock return data\u001b[39;00m\n\u001b[0;32m     11\u001b[0m sentiment_factors_df \u001b[39m=\u001b[39m pd\u001b[39m.\u001b[39mread_csv(\u001b[39mr\u001b[39m\u001b[39m'\u001b[39m\u001b[39mC:\u001b[39m\u001b[39m\\\u001b[39m\u001b[39mEdgar_EC\u001b[39m\u001b[39m\\\u001b[39m\u001b[39mtest_output\u001b[39m\u001b[39m\\\u001b[39m\u001b[39msentiment_factors.csv\u001b[39m\u001b[39m'\u001b[39m)                             \u001b[39m# Load in sentiment word count data\u001b[39;00m\n\u001b[0;32m     12\u001b[0m \u001b[39m#stock_returns_daily_df = pd.read_csv('C:/EDGAR/example_shares_output2.csv')   \u001b[39;00m\n\u001b[0;32m     13\u001b[0m \u001b[39m#sentiment_factors_df = pd.read_csv('C:/EDGAR/example_sentiment_analysis.csv')  \u001b[39;00m\n\u001b[0;32m     14\u001b[0m \n\u001b[0;32m     15\u001b[0m \u001b[39m# Processing and Feature Engineering\u001b[39;00m\n",
      "\u001b[1;31mNameError\u001b[0m: name 'pd' is not defined"
     ]
    }
   ],
   "source": [
    "def full_train_dataset():\n",
    "   #df_returns = rf.get_yahoo_data(input_min_date, input_max_date, tickers_sp100, 'daily')\n",
    "    df_returns = ref_data.get_yahoo_data('2022-01-01', '2023-08-01', [\"AAPL\", \"MSFT\", \"AMZN\", \"BRK-B\", \"GOOGL\", \"UNH\", \"GOOG\", \"JNJ\", \"XOM\", \"JPM\", \"NVDA\", \"PG\", \"V\", \"HD\", \"TSLA\"]) # Need to decide dates as I have to pass a date here\n",
    "    df_returns.to_csv(r'C:\\Edgar_EC\\test_output\\stock_returns_daily.csv', index=False)\n",
    "    sentiment_dict = ref_data.get_sentiment_word_dict()\n",
    "\n",
    "    esw.write_document_sentiments(r'C:\\10k_filings_clean', r'C:\\Edgar_EC\\test_output\\sentiment_factors.csv')\n"
   ]
  },
  {
   "cell_type": "code",
   "execution_count": 17,
   "id": "56a03d80",
   "metadata": {},
   "outputs": [
    {
     "ename": "KeyError",
     "evalue": "\"['high', 'low', 'price'] not found in axis\"",
     "output_type": "error",
     "traceback": [
      "\u001b[1;31m---------------------------------------------------------------------------\u001b[0m",
      "\u001b[1;31mKeyError\u001b[0m                                  Traceback (most recent call last)",
      "Cell \u001b[1;32mIn[17], line 19\u001b[0m\n\u001b[0;32m     15\u001b[0m     full_combined_df \u001b[39m=\u001b[39m pd\u001b[39m.\u001b[39mmerge(full_stock_returns_daily_df, full_sentiment_factors_df, on \u001b[39m=\u001b[39m [\u001b[39m'\u001b[39m\u001b[39mDate\u001b[39m\u001b[39m'\u001b[39m, \u001b[39m'\u001b[39m\u001b[39mticker\u001b[39m\u001b[39m'\u001b[39m], how \u001b[39m=\u001b[39m \u001b[39m'\u001b[39m\u001b[39mleft\u001b[39m\u001b[39m'\u001b[39m)\n\u001b[0;32m     17\u001b[0m     full_combined_df\u001b[39m.\u001b[39mto_csv(\u001b[39mr\u001b[39m\u001b[39m'\u001b[39m\u001b[39mC:\u001b[39m\u001b[39m\\\u001b[39m\u001b[39mEdgar_EC\u001b[39m\u001b[39m\\\u001b[39m\u001b[39mtest_output\u001b[39m\u001b[39m\\\u001b[39m\u001b[39mfull_dataset.csv\u001b[39m\u001b[39m'\u001b[39m, index \u001b[39m=\u001b[39m \u001b[39mFalse\u001b[39;00m)              \u001b[39m# Will need to decide a better place for this\u001b[39;00m\n\u001b[1;32m---> 19\u001b[0m full_train_dataset()\n",
      "Cell \u001b[1;32mIn[17], line 11\u001b[0m, in \u001b[0;36mfull_train_dataset\u001b[1;34m()\u001b[0m\n\u001b[0;32m      6\u001b[0m sentiment_factors_df \u001b[39m=\u001b[39m pd\u001b[39m.\u001b[39mread_csv(\u001b[39mr\u001b[39m\u001b[39m'\u001b[39m\u001b[39mC:\u001b[39m\u001b[39m\\\u001b[39m\u001b[39mEdgar_EC\u001b[39m\u001b[39m\\\u001b[39m\u001b[39mtest_output\u001b[39m\u001b[39m\\\u001b[39m\u001b[39msentiment_factors.csv\u001b[39m\u001b[39m'\u001b[39m)                             \u001b[39m# Load in sentiment word count data\u001b[39;00m\n\u001b[0;32m      7\u001b[0m \u001b[39m#stock_returns_daily_df = pd.read_csv('C:/EDGAR/example_shares_output2.csv')   \u001b[39;00m\n\u001b[0;32m      8\u001b[0m \u001b[39m#sentiment_factors_df = pd.read_csv('C:/EDGAR/example_sentiment_analysis.csv')  \u001b[39;00m\n\u001b[0;32m      9\u001b[0m \n\u001b[0;32m     10\u001b[0m \u001b[39m# Processing and Feature Engineering\u001b[39;00m\n\u001b[1;32m---> 11\u001b[0m full_stock_returns_daily_df \u001b[39m=\u001b[39m esap\u001b[39m.\u001b[39;49mstock_returns_prep(stock_returns_daily_df)\n\u001b[0;32m     12\u001b[0m full_sentiment_factors_df \u001b[39m=\u001b[39m esap\u001b[39m.\u001b[39msentiment_factors_prep(sentiment_factors_df)\n\u001b[0;32m     14\u001b[0m \u001b[39m# Combine Datasets\u001b[39;00m\n",
      "File \u001b[1;32mc:\\Edgar_EC\\edgar_ec_2\\edgar_ec\\edgar_sentiment_analysis_prep.py:61\u001b[0m, in \u001b[0;36mstock_returns_prep\u001b[1;34m(df)\u001b[0m\n\u001b[0;32m     59\u001b[0m \u001b[39mdef\u001b[39;00m \u001b[39mstock_returns_prep\u001b[39m(df): \n\u001b[1;32m---> 61\u001b[0m     new_df \u001b[39m=\u001b[39m df\u001b[39m.\u001b[39;49mdrop([\u001b[39m'\u001b[39;49m\u001b[39mhigh\u001b[39;49m\u001b[39m'\u001b[39;49m, \u001b[39m'\u001b[39;49m\u001b[39mlow\u001b[39;49m\u001b[39m'\u001b[39;49m, \u001b[39m'\u001b[39;49m\u001b[39mprice\u001b[39;49m\u001b[39m'\u001b[39;49m], axis \u001b[39m=\u001b[39;49m \u001b[39m1\u001b[39;49m)                       \u001b[39m# Remove unnessary columns # sample_stock_returns_daily_df\u001b[39;00m\n\u001b[0;32m     62\u001b[0m     new_df\u001b[39m.\u001b[39mrename(columns\u001b[39m=\u001b[39m{\u001b[39m\"\u001b[39m\u001b[39mdate\u001b[39m\u001b[39m\"\u001b[39m: \u001b[39m\"\u001b[39m\u001b[39mDate\u001b[39m\u001b[39m\"\u001b[39m}, inplace\u001b[39m=\u001b[39m \u001b[39mTrue\u001b[39;00m)                              \u001b[39m# Change date column name for later merge\u001b[39;00m\n\u001b[0;32m     64\u001b[0m     \u001b[39mreturn\u001b[39;00m new_df\n",
      "File \u001b[1;32mc:\\Python310\\lib\\site-packages\\pandas\\util\\_decorators.py:331\u001b[0m, in \u001b[0;36mdeprecate_nonkeyword_arguments.<locals>.decorate.<locals>.wrapper\u001b[1;34m(*args, **kwargs)\u001b[0m\n\u001b[0;32m    325\u001b[0m \u001b[39mif\u001b[39;00m \u001b[39mlen\u001b[39m(args) \u001b[39m>\u001b[39m num_allow_args:\n\u001b[0;32m    326\u001b[0m     warnings\u001b[39m.\u001b[39mwarn(\n\u001b[0;32m    327\u001b[0m         msg\u001b[39m.\u001b[39mformat(arguments\u001b[39m=\u001b[39m_format_argument_list(allow_args)),\n\u001b[0;32m    328\u001b[0m         \u001b[39mFutureWarning\u001b[39;00m,\n\u001b[0;32m    329\u001b[0m         stacklevel\u001b[39m=\u001b[39mfind_stack_level(),\n\u001b[0;32m    330\u001b[0m     )\n\u001b[1;32m--> 331\u001b[0m \u001b[39mreturn\u001b[39;00m func(\u001b[39m*\u001b[39margs, \u001b[39m*\u001b[39m\u001b[39m*\u001b[39mkwargs)\n",
      "File \u001b[1;32mc:\\Python310\\lib\\site-packages\\pandas\\core\\frame.py:5399\u001b[0m, in \u001b[0;36mDataFrame.drop\u001b[1;34m(self, labels, axis, index, columns, level, inplace, errors)\u001b[0m\n\u001b[0;32m   5251\u001b[0m \u001b[39m@deprecate_nonkeyword_arguments\u001b[39m(version\u001b[39m=\u001b[39m\u001b[39mNone\u001b[39;00m, allowed_args\u001b[39m=\u001b[39m[\u001b[39m\"\u001b[39m\u001b[39mself\u001b[39m\u001b[39m\"\u001b[39m, \u001b[39m\"\u001b[39m\u001b[39mlabels\u001b[39m\u001b[39m\"\u001b[39m])\n\u001b[0;32m   5252\u001b[0m \u001b[39mdef\u001b[39;00m \u001b[39mdrop\u001b[39m(  \u001b[39m# type: ignore[override]\u001b[39;00m\n\u001b[0;32m   5253\u001b[0m     \u001b[39mself\u001b[39m,\n\u001b[1;32m   (...)\u001b[0m\n\u001b[0;32m   5260\u001b[0m     errors: IgnoreRaise \u001b[39m=\u001b[39m \u001b[39m\"\u001b[39m\u001b[39mraise\u001b[39m\u001b[39m\"\u001b[39m,\n\u001b[0;32m   5261\u001b[0m ) \u001b[39m-\u001b[39m\u001b[39m>\u001b[39m DataFrame \u001b[39m|\u001b[39m \u001b[39mNone\u001b[39;00m:\n\u001b[0;32m   5262\u001b[0m \u001b[39m    \u001b[39m\u001b[39m\"\"\"\u001b[39;00m\n\u001b[0;32m   5263\u001b[0m \u001b[39m    Drop specified labels from rows or columns.\u001b[39;00m\n\u001b[0;32m   5264\u001b[0m \n\u001b[1;32m   (...)\u001b[0m\n\u001b[0;32m   5397\u001b[0m \u001b[39m            weight  1.0     0.8\u001b[39;00m\n\u001b[0;32m   5398\u001b[0m \u001b[39m    \"\"\"\u001b[39;00m\n\u001b[1;32m-> 5399\u001b[0m     \u001b[39mreturn\u001b[39;00m \u001b[39msuper\u001b[39;49m()\u001b[39m.\u001b[39;49mdrop(\n\u001b[0;32m   5400\u001b[0m         labels\u001b[39m=\u001b[39;49mlabels,\n\u001b[0;32m   5401\u001b[0m         axis\u001b[39m=\u001b[39;49maxis,\n\u001b[0;32m   5402\u001b[0m         index\u001b[39m=\u001b[39;49mindex,\n\u001b[0;32m   5403\u001b[0m         columns\u001b[39m=\u001b[39;49mcolumns,\n\u001b[0;32m   5404\u001b[0m         level\u001b[39m=\u001b[39;49mlevel,\n\u001b[0;32m   5405\u001b[0m         inplace\u001b[39m=\u001b[39;49minplace,\n\u001b[0;32m   5406\u001b[0m         errors\u001b[39m=\u001b[39;49merrors,\n\u001b[0;32m   5407\u001b[0m     )\n",
      "File \u001b[1;32mc:\\Python310\\lib\\site-packages\\pandas\\util\\_decorators.py:331\u001b[0m, in \u001b[0;36mdeprecate_nonkeyword_arguments.<locals>.decorate.<locals>.wrapper\u001b[1;34m(*args, **kwargs)\u001b[0m\n\u001b[0;32m    325\u001b[0m \u001b[39mif\u001b[39;00m \u001b[39mlen\u001b[39m(args) \u001b[39m>\u001b[39m num_allow_args:\n\u001b[0;32m    326\u001b[0m     warnings\u001b[39m.\u001b[39mwarn(\n\u001b[0;32m    327\u001b[0m         msg\u001b[39m.\u001b[39mformat(arguments\u001b[39m=\u001b[39m_format_argument_list(allow_args)),\n\u001b[0;32m    328\u001b[0m         \u001b[39mFutureWarning\u001b[39;00m,\n\u001b[0;32m    329\u001b[0m         stacklevel\u001b[39m=\u001b[39mfind_stack_level(),\n\u001b[0;32m    330\u001b[0m     )\n\u001b[1;32m--> 331\u001b[0m \u001b[39mreturn\u001b[39;00m func(\u001b[39m*\u001b[39margs, \u001b[39m*\u001b[39m\u001b[39m*\u001b[39mkwargs)\n",
      "File \u001b[1;32mc:\\Python310\\lib\\site-packages\\pandas\\core\\generic.py:4505\u001b[0m, in \u001b[0;36mNDFrame.drop\u001b[1;34m(self, labels, axis, index, columns, level, inplace, errors)\u001b[0m\n\u001b[0;32m   4503\u001b[0m \u001b[39mfor\u001b[39;00m axis, labels \u001b[39min\u001b[39;00m axes\u001b[39m.\u001b[39mitems():\n\u001b[0;32m   4504\u001b[0m     \u001b[39mif\u001b[39;00m labels \u001b[39mis\u001b[39;00m \u001b[39mnot\u001b[39;00m \u001b[39mNone\u001b[39;00m:\n\u001b[1;32m-> 4505\u001b[0m         obj \u001b[39m=\u001b[39m obj\u001b[39m.\u001b[39;49m_drop_axis(labels, axis, level\u001b[39m=\u001b[39;49mlevel, errors\u001b[39m=\u001b[39;49merrors)\n\u001b[0;32m   4507\u001b[0m \u001b[39mif\u001b[39;00m inplace:\n\u001b[0;32m   4508\u001b[0m     \u001b[39mself\u001b[39m\u001b[39m.\u001b[39m_update_inplace(obj)\n",
      "File \u001b[1;32mc:\\Python310\\lib\\site-packages\\pandas\\core\\generic.py:4546\u001b[0m, in \u001b[0;36mNDFrame._drop_axis\u001b[1;34m(self, labels, axis, level, errors, only_slice)\u001b[0m\n\u001b[0;32m   4544\u001b[0m         new_axis \u001b[39m=\u001b[39m axis\u001b[39m.\u001b[39mdrop(labels, level\u001b[39m=\u001b[39mlevel, errors\u001b[39m=\u001b[39merrors)\n\u001b[0;32m   4545\u001b[0m     \u001b[39melse\u001b[39;00m:\n\u001b[1;32m-> 4546\u001b[0m         new_axis \u001b[39m=\u001b[39m axis\u001b[39m.\u001b[39;49mdrop(labels, errors\u001b[39m=\u001b[39;49merrors)\n\u001b[0;32m   4547\u001b[0m     indexer \u001b[39m=\u001b[39m axis\u001b[39m.\u001b[39mget_indexer(new_axis)\n\u001b[0;32m   4549\u001b[0m \u001b[39m# Case for non-unique axis\u001b[39;00m\n\u001b[0;32m   4550\u001b[0m \u001b[39melse\u001b[39;00m:\n",
      "File \u001b[1;32mc:\\Python310\\lib\\site-packages\\pandas\\core\\indexes\\base.py:6934\u001b[0m, in \u001b[0;36mIndex.drop\u001b[1;34m(self, labels, errors)\u001b[0m\n\u001b[0;32m   6932\u001b[0m \u001b[39mif\u001b[39;00m mask\u001b[39m.\u001b[39many():\n\u001b[0;32m   6933\u001b[0m     \u001b[39mif\u001b[39;00m errors \u001b[39m!=\u001b[39m \u001b[39m\"\u001b[39m\u001b[39mignore\u001b[39m\u001b[39m\"\u001b[39m:\n\u001b[1;32m-> 6934\u001b[0m         \u001b[39mraise\u001b[39;00m \u001b[39mKeyError\u001b[39;00m(\u001b[39mf\u001b[39m\u001b[39m\"\u001b[39m\u001b[39m{\u001b[39;00m\u001b[39mlist\u001b[39m(labels[mask])\u001b[39m}\u001b[39;00m\u001b[39m not found in axis\u001b[39m\u001b[39m\"\u001b[39m)\n\u001b[0;32m   6935\u001b[0m     indexer \u001b[39m=\u001b[39m indexer[\u001b[39m~\u001b[39mmask]\n\u001b[0;32m   6936\u001b[0m \u001b[39mreturn\u001b[39;00m \u001b[39mself\u001b[39m\u001b[39m.\u001b[39mdelete(indexer)\n",
      "\u001b[1;31mKeyError\u001b[0m: \"['high', 'low', 'price'] not found in axis\""
     ]
    }
   ],
   "source": [
    "import pandas as pd\n",
    "\n",
    "def full_train_dataset():\n",
    "    # Load Data\n",
    "    stock_returns_daily_df = pd.read_csv(r'C:\\Edgar_EC\\test_output\\stock_returns_daily.csv')                         # Load in stock return data\n",
    "    sentiment_factors_df = pd.read_csv(r'C:\\Edgar_EC\\test_output\\sentiment_factors.csv')                             # Load in sentiment word count data\n",
    "    #stock_returns_daily_df = pd.read_csv('C:/EDGAR/example_shares_output2.csv')   \n",
    "    #sentiment_factors_df = pd.read_csv('C:/EDGAR/example_sentiment_analysis.csv')  \n",
    "    \n",
    "    # Processing and Feature Engineering\n",
    "    full_stock_returns_daily_df = esap.stock_returns_prep(stock_returns_daily_df)\n",
    "    full_sentiment_factors_df = esap.sentiment_factors_prep(sentiment_factors_df)\n",
    "    \n",
    "    # Combine Datasets\n",
    "    full_combined_df = pd.merge(full_stock_returns_daily_df, full_sentiment_factors_df, on = ['Date', 'ticker'], how = 'left')\n",
    "\n",
    "    full_combined_df.to_csv(r'C:\\Edgar_EC\\test_output\\full_dataset.csv', index = False)              # Will need to decide a better place for this\n",
    "\n",
    "full_train_dataset()"
   ]
  }
 ],
 "metadata": {
  "kernelspec": {
   "display_name": "Python 3",
   "language": "python",
   "name": "python3"
  },
  "language_info": {
   "codemirror_mode": {
    "name": "ipython",
    "version": 3
   },
   "file_extension": ".py",
   "mimetype": "text/x-python",
   "name": "python",
   "nbconvert_exporter": "python",
   "pygments_lexer": "ipython3",
   "version": "3.10.8"
  },
  "vscode": {
   "interpreter": {
    "hash": "369f2c481f4da34e4445cda3fffd2e751bd1c4d706f27375911949ba6bb62e1c"
   }
  }
 },
 "nbformat": 4,
 "nbformat_minor": 5
}
