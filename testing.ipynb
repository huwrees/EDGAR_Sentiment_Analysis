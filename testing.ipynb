{
 "cells": [
  {
   "cell_type": "code",
   "execution_count": 2,
   "id": "b7eaeda4",
   "metadata": {},
   "outputs": [
    {
     "name": "stdout",
     "output_type": "stream",
     "text": [
      "Directory already exists\n"
     ]
    },
    {
     "name": "stderr",
     "output_type": "stream",
     "text": [
      "c:\\Edgar_EC\\edgar_ec\\edgar_ec\\ref_data.py:41: FutureWarning: The frame.append method is deprecated and will be removed from pandas in a future version. Use pandas.concat instead.\n",
      "  data = data.append(ticker_data, sort=False)\n",
      "c:\\Edgar_EC\\edgar_ec\\edgar_ec\\edgar_sentiment_analysis_prep.py:104: FutureWarning: Dropping of nuisance columns in DataFrame reductions (with 'numeric_only=None') is deprecated; in a future version this will raise TypeError.  Select only valid columns before calling the reduction.\n",
      "  new_df['word_sum'] = new_df.sum(axis = 1)                                 # Calculate total number of categorised words from the report\n"
     ]
    }
   ],
   "source": [
    "import edgar_sentiment_analysis_prep as esap\n",
    "\n",
    "esap.full_train_dataset('full_data_test'\n",
    "    ,['AAPL']\n",
    "    ,r'C:\\Edgar_EC\\test_full_pull'\n",
    "    ,'2022-01-01'\n",
    "    ,'2025-01-01')\n"
   ]
  },
  {
   "cell_type": "code",
   "execution_count": 5,
   "id": "ffe9f067",
   "metadata": {},
   "outputs": [
    {
     "data": {
      "text/plain": [
       "(      Negative  Positive  Uncertainty  Litigious  Constraining  Superfluous  \\\n",
       " 210        778       203          558        314           257            0   \n",
       " 1609        40        39           90         91            37            0   \n",
       " 1049       481       271          369        197           179            0   \n",
       " 820        770       209          548        522           282            0   \n",
       " 1763       138        52          143        113            52            0   \n",
       " ...        ...       ...          ...        ...           ...          ...   \n",
       " 835        149       187          179        139            42            0   \n",
       " 1216       982        67          334        619           106            0   \n",
       " 1653      3754       874         3450       4098          2023            0   \n",
       " 559        569       230          714        394           313            0   \n",
       " 684        311       309          523        368           226            0   \n",
       " \n",
       "       Interesting  Modal  \n",
       " 210             0     44  \n",
       " 1609            0     15  \n",
       " 1049            0     50  \n",
       " 820             0     70  \n",
       " 1763            0     23  \n",
       " ...           ...    ...  \n",
       " 835             0     18  \n",
       " 1216            0     63  \n",
       " 1653            0    637  \n",
       " 559             0    121  \n",
       " 684             0    123  \n",
       " \n",
       " [1418 rows x 8 columns],\n",
       " 210    -0.011703\n",
       " 1609    0.010851\n",
       " 1049   -0.003945\n",
       " 820    -0.000875\n",
       " 1763   -0.000281\n",
       "           ...   \n",
       " 835    -0.006314\n",
       " 1216   -0.004874\n",
       " 1653   -0.002470\n",
       " 559    -0.004018\n",
       " 684     0.018715\n",
       " Name: 1daily_return, Length: 1418, dtype: float64,\n",
       "       Negative  Positive  Uncertainty  Litigious  Constraining  Superfluous  \\\n",
       " 1254      1271       523         1074        633           283            0   \n",
       " 898         45        13           44        101            24            0   \n",
       " 1187      1277       238         1061        648           338            0   \n",
       " 37         526       117          327        345           122            0   \n",
       " 1200      1143       316          707        564           254            0   \n",
       " ...        ...       ...          ...        ...           ...          ...   \n",
       " 1880       842       437          709        409           339            0   \n",
       " 1475       750       343          568        436           206            0   \n",
       " 1746      1081       443         1053        454           371            0   \n",
       " 996        765       207          522        441           159            0   \n",
       " 1935       202       157          213        201           108            0   \n",
       " \n",
       "       Interesting  Modal  \n",
       " 1254            0    199  \n",
       " 898             0     10  \n",
       " 1187            0    166  \n",
       " 37              0     39  \n",
       " 1200            0     93  \n",
       " ...           ...    ...  \n",
       " 1880            0     84  \n",
       " 1475            0     99  \n",
       " 1746            0    241  \n",
       " 996             0     90  \n",
       " 1935            0     44  \n",
       " \n",
       " [609 rows x 8 columns],\n",
       " 1254   -0.023267\n",
       " 898    -0.003385\n",
       " 1187   -0.036367\n",
       " 37     -0.016760\n",
       " 1200    0.004332\n",
       "           ...   \n",
       " 1880    0.001966\n",
       " 1475    0.000231\n",
       " 1746   -0.018582\n",
       " 996    -0.002505\n",
       " 1935    0.005076\n",
       " Name: 1daily_return, Length: 609, dtype: float64)"
      ]
     },
     "execution_count": 5,
     "metadata": {},
     "output_type": "execute_result"
    }
   ],
   "source": [
    "all_features = ['Negative', 'Positive', 'Uncertainty', 'Litigious', 'Constraining', 'Superfluous', 'Interesting', 'Modal']\n",
    "\n",
    "esap.get_test_train_csv(r'C:\\Edgar_EC\\Archives\\data\\full_dataset.csv',all_features,'1daily_return')"
   ]
  }
 ],
 "metadata": {
  "kernelspec": {
   "display_name": "Python 3",
   "language": "python",
   "name": "python3"
  },
  "language_info": {
   "codemirror_mode": {
    "name": "ipython",
    "version": 3
   },
   "file_extension": ".py",
   "mimetype": "text/x-python",
   "name": "python",
   "nbconvert_exporter": "python",
   "pygments_lexer": "ipython3",
   "version": "3.10.8"
  },
  "vscode": {
   "interpreter": {
    "hash": "369f2c481f4da34e4445cda3fffd2e751bd1c4d706f27375911949ba6bb62e1c"
   }
  }
 },
 "nbformat": 4,
 "nbformat_minor": 5
}
