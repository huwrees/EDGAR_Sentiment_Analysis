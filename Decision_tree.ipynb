{
 "cells": [
  {
   "cell_type": "code",
   "execution_count": null,
   "id": "695d1f60",
   "metadata": {},
   "outputs": [],
   "source": [
    "DECISION TREE FINE TUNING "
   ]
  },
  {
   "cell_type": "code",
   "execution_count": 2,
   "id": "6c6d7960",
   "metadata": {},
   "outputs": [],
   "source": [
    "import numpy as np\n",
    "import pandas as pd\n",
    "import matplotlib.pyplot as plt\n",
    "from sklearn.tree import DecisionTreeClassifier\n",
    "from sklearn.model_selection import train_test_split\n",
    "from sklearn.metrics import accuracy_score\n",
    "from sklearn import tree\n",
    "from sklearn.tree import DecisionTreeRegressor\n",
    "from sklearn.metrics import mean_squared_error\n",
    "from sklearn.metrics import mean_absolute_error\n",
    "from sklearn.metrics import r2_score"
   ]
  },
  {
   "cell_type": "code",
   "execution_count": null,
   "id": "d46901c7",
   "metadata": {},
   "outputs": [],
   "source": [
    "def create_decision_tree(X_train, y_train, X_test, y_test):\n",
    "    \n",
    "    dt = DecisionTreeRegressor()\n",
    "    dt.fit(X_train, y_train)\n",
    "    y_pred = dt.predict(X_test)\n",
    "\n",
    "    tree.plot_tree(dt)\n",
    "    plt.show()\n",
    "    \n",
    "    print('Accuracy of decision tree:', accuracy_score(y_test, y_pred))"
   ]
  },
  {
   "cell_type": "code",
   "execution_count": null,
   "id": "aac3b7de",
   "metadata": {},
   "outputs": [],
   "source": [
    "def hyper_tuning(X_train, y_train, X_test, y_test, depth_list, sample_list):\n",
    "    data = []\n",
    "    for depth in depth_list:\n",
    "        for sample in sample_list:\n",
    "            inner_dict = {}\n",
    "            inner_dict['depth'] = depth\n",
    "            dt = DecisionTreeRegressor(max_depth = depth, min_samples_leaf = sample, random_state = 1)\n",
    "            dt.fit(X_train, y_train)\n",
    "            y_pred = dt.predict(X_test)\n",
    "        \n",
    "            mse = mean_squared_error(y_test, y_pred)\n",
    "            rmse = mse**0.5\n",
    "            mae = mean_absolute_error(y_test,y_pred)\n",
    "            r2 = r2_score(y_test, y_pred)\n",
    "        \n",
    "            inner_dict['sample'] = sample\n",
    "            inner_dict['mae'] = mae\n",
    "            inner_dict['mse'] = mse\n",
    "            inner_dict['rmse'] = rmse\n",
    "            inner_dict['r2'] = r2\n",
    "            data.append(inner_dict)\n",
    "            \n",
    "    summary_df = pd.DataFrame(data)\n",
    "    summary_df.sort_values('rmse', inplace = True)\n",
    "    \n",
    "    return summary_df"
   ]
  },
  {
   "cell_type": "code",
   "execution_count": null,
   "id": "0de7b4f1",
   "metadata": {},
   "outputs": [],
   "source": [
    "depth_list = [input_list]\n",
    "sample_list = [input_list]\n",
    "\n",
    "hyper_tuning(X_train, y_train, X_test, y_test, depth_list, sample_list).head()"
   ]
  }
 ],
 "metadata": {
  "kernelspec": {
   "display_name": "Python 3 (ipykernel)",
   "language": "python",
   "name": "python3"
  },
  "language_info": {
   "codemirror_mode": {
    "name": "ipython",
    "version": 3
   },
   "file_extension": ".py",
   "mimetype": "text/x-python",
   "name": "python",
   "nbconvert_exporter": "python",
   "pygments_lexer": "ipython3",
   "version": "3.10.8"
  }
 },
 "nbformat": 4,
 "nbformat_minor": 5
}
